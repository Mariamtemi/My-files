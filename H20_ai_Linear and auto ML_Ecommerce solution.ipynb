{
 "cells": [
  {
   "cell_type": "code",
   "execution_count": 3,
   "metadata": {},
   "outputs": [
    {
     "name": "stdout",
     "output_type": "stream",
     "text": [
      "Checking whether there is an H2O instance running at http://localhost:54321 ... connected.\n"
     ]
    },
    {
     "data": {
      "text/html": [
       "<div style=\"overflow:auto\"><table style=\"width:50%\"><tr><td>H2O cluster uptime:</td>\n",
       "<td>1 min 01 secs</td></tr>\n",
       "<tr><td>H2O cluster timezone:</td>\n",
       "<td>Africa/Luanda</td></tr>\n",
       "<tr><td>H2O data parsing timezone:</td>\n",
       "<td>UTC</td></tr>\n",
       "<tr><td>H2O cluster version:</td>\n",
       "<td>3.24.0.2</td></tr>\n",
       "<tr><td>H2O cluster version age:</td>\n",
       "<td>28 days, 11 hours and 40 minutes </td></tr>\n",
       "<tr><td>H2O cluster name:</td>\n",
       "<td>H2O_from_python_maria_fg5oet</td></tr>\n",
       "<tr><td>H2O cluster total nodes:</td>\n",
       "<td>1</td></tr>\n",
       "<tr><td>H2O cluster free memory:</td>\n",
       "<td>892 Mb</td></tr>\n",
       "<tr><td>H2O cluster total cores:</td>\n",
       "<td>0</td></tr>\n",
       "<tr><td>H2O cluster allowed cores:</td>\n",
       "<td>0</td></tr>\n",
       "<tr><td>H2O cluster status:</td>\n",
       "<td>locked, healthy</td></tr>\n",
       "<tr><td>H2O connection url:</td>\n",
       "<td>http://localhost:54321</td></tr>\n",
       "<tr><td>H2O connection proxy:</td>\n",
       "<td>None</td></tr>\n",
       "<tr><td>H2O internal security:</td>\n",
       "<td>False</td></tr>\n",
       "<tr><td>H2O API Extensions:</td>\n",
       "<td>Amazon S3, Algos, AutoML, Core V3, Core V4</td></tr>\n",
       "<tr><td>Python version:</td>\n",
       "<td>3.6.5 final</td></tr></table></div>"
      ],
      "text/plain": [
       "--------------------------  ------------------------------------------\n",
       "H2O cluster uptime:         1 min 01 secs\n",
       "H2O cluster timezone:       Africa/Luanda\n",
       "H2O data parsing timezone:  UTC\n",
       "H2O cluster version:        3.24.0.2\n",
       "H2O cluster version age:    28 days, 11 hours and 40 minutes\n",
       "H2O cluster name:           H2O_from_python_maria_fg5oet\n",
       "H2O cluster total nodes:    1\n",
       "H2O cluster free memory:    892 Mb\n",
       "H2O cluster total cores:    0\n",
       "H2O cluster allowed cores:  0\n",
       "H2O cluster status:         locked, healthy\n",
       "H2O connection url:         http://localhost:54321\n",
       "H2O connection proxy:\n",
       "H2O internal security:      False\n",
       "H2O API Extensions:         Amazon S3, Algos, AutoML, Core V3, Core V4\n",
       "Python version:             3.6.5 final\n",
       "--------------------------  ------------------------------------------"
      ]
     },
     "metadata": {},
     "output_type": "display_data"
    }
   ],
   "source": [
    "import h2o\n",
    "h2o.init()"
   ]
  },
  {
   "cell_type": "markdown",
   "metadata": {},
   "source": [
    "# Problem Statement\n",
    "\n",
    "A company is trying to predict whether customers will order for goods on their mobile app or their website."
   ]
  },
  {
   "cell_type": "code",
   "execution_count": 4,
   "metadata": {},
   "outputs": [
    {
     "name": "stdout",
     "output_type": "stream",
     "text": [
      "Parse progress: |█████████████████████████████████████████████████████████| 100%\n"
     ]
    },
    {
     "data": {
      "text/html": [
       "<table>\n",
       "<thead>\n",
       "<tr><th>Email                        </th><th>Address  </th><th>Avatar          </th><th style=\"text-align: right;\">  Avg. Session Length</th><th style=\"text-align: right;\">  Time on App</th><th style=\"text-align: right;\">  Time on Website</th><th style=\"text-align: right;\">  Length of Membership</th><th style=\"text-align: right;\">  Yearly Amount Spent</th></tr>\n",
       "</thead>\n",
       "<tbody>\n",
       "<tr><td>mstephenson@fernandez.com    </td><td>835 Frank Tunnel\n",
       "Wrightmouth, MI 82180-9605          </td><td>Violet          </td><td style=\"text-align: right;\">              34.4973</td><td style=\"text-align: right;\">      12.6557</td><td style=\"text-align: right;\">          39.5777</td><td style=\"text-align: right;\">               4.08262</td><td style=\"text-align: right;\">              587.951</td></tr>\n",
       "<tr><td>hduke@hotmail.com            </td><td>4547 Archer Common\n",
       "Diazchester, CA 06566-8576          </td><td>DarkGreen       </td><td style=\"text-align: right;\">              31.9263</td><td style=\"text-align: right;\">      11.1095</td><td style=\"text-align: right;\">          37.269 </td><td style=\"text-align: right;\">               2.66403</td><td style=\"text-align: right;\">              392.205</td></tr>\n",
       "<tr><td>pallen@yahoo.com             </td><td>24645 Valerie Unions Suite 582\n",
       "Cobbborough, DC 99414-7564          </td><td>Bisque          </td><td style=\"text-align: right;\">              33.0009</td><td style=\"text-align: right;\">      11.3303</td><td style=\"text-align: right;\">          37.1106</td><td style=\"text-align: right;\">               4.10454</td><td style=\"text-align: right;\">              487.548</td></tr>\n",
       "<tr><td>riverarebecca@gmail.com      </td><td>1414 David Throughway\n",
       "Port Jason, OH 22070-1220          </td><td>SaddleBrown     </td><td style=\"text-align: right;\">              34.3056</td><td style=\"text-align: right;\">      13.7175</td><td style=\"text-align: right;\">          36.7213</td><td style=\"text-align: right;\">               3.12018</td><td style=\"text-align: right;\">              581.852</td></tr>\n",
       "<tr><td>mstephens@davidson-herman.com</td><td>14023 Rodriguez Passage\n",
       "Port Jacobville, PR 37242-1057          </td><td>MediumAquaMarine</td><td style=\"text-align: right;\">              33.3307</td><td style=\"text-align: right;\">      12.7952</td><td style=\"text-align: right;\">          37.5367</td><td style=\"text-align: right;\">               4.44631</td><td style=\"text-align: right;\">              599.406</td></tr>\n",
       "</tbody>\n",
       "</table>"
      ]
     },
     "metadata": {},
     "output_type": "display_data"
    },
    {
     "data": {
      "text/plain": []
     },
     "execution_count": 4,
     "metadata": {},
     "output_type": "execute_result"
    }
   ],
   "source": [
    "data = h2o.import_file(\"Ecommerce Customers\")\n",
    "data.head(5)# The default head() command displays the first 10 rows."
   ]
  },
  {
   "cell_type": "markdown",
   "metadata": {},
   "source": [
    "# Helpful features about H2o.AI\n",
    "(http://docs.h2o.ai/h2o/latest-stable/h2o-docs/data-science/glm.html)\n",
    "\n",
    "1) Standardization: The Standardization of numerical values is enabled by default. If you do not use standardization, the results can include components that are dominated by variables that appear to have larger variances relative to other attributes as a matter of scale, rather than true contribution. Only advanced users should disable this option.\n",
    "\n",
    "2) Missing values handling: In H2O, the Deep Learning and GLM algorithms will either skip or mean-impute rows with NA values. This option defaults to MeanImputation. But you can select the skip option.\n",
    "\n",
    "3) Unwanted Columns: The ignored_columns parameter is used to specify an array of column names that should be ignored.\n",
    "\n",
    "4) Collinearity : Collinear columns can cause problems during model fitting. The preferred way to deal with collinearity (and the default H2O behavior) is to add regularization. However, if you want a non-regularized solution, you can choose to automatically remove collinear columns by enabling the \"remove_collinear_columns\" option. This option can only be used when solver=IRLSM and with no regularization (lambda=0)."
   ]
  },
  {
   "cell_type": "code",
   "execution_count": 38,
   "metadata": {},
   "outputs": [
    {
     "name": "stdout",
     "output_type": "stream",
     "text": [
      "missing: 0.0\n"
     ]
    }
   ],
   "source": [
    "# check the number of missing values\n",
    "print('missing:', data.isna().sum())"
   ]
  },
  {
   "cell_type": "code",
   "execution_count": 6,
   "metadata": {},
   "outputs": [
    {
     "name": "stdout",
     "output_type": "stream",
     "text": [
      "Rows:504\n",
      "Cols:8\n",
      "\n",
      "\n"
     ]
    },
    {
     "data": {
      "text/html": [
       "<table>\n",
       "<thead>\n",
       "<tr><th>       </th><th>Email                        </th><th>Address  </th><th>Avatar          </th><th>Avg. Session Length  </th><th>Time on App       </th><th>Time on Website   </th><th>Length of Membership  </th><th>Yearly Amount Spent  </th></tr>\n",
       "</thead>\n",
       "<tbody>\n",
       "<tr><td>type   </td><td>string                       </td><td>string   </td><td>enum            </td><td>real                 </td><td>real              </td><td>real              </td><td>real                  </td><td>real                 </td></tr>\n",
       "<tr><td>mins   </td><td>NaN                          </td><td>NaN      </td><td>                </td><td>29.532428967057943   </td><td>8.508152176032603 </td><td>33.91384724758464 </td><td>0.2699010899842742    </td><td>256.67058229005585   </td></tr>\n",
       "<tr><td>mean   </td><td>NaN                          </td><td>NaN      </td><td>                </td><td>33.0485262783768     </td><td>12.058543548324797</td><td>37.05977842753533 </td><td>3.5391442739007943    </td><td>499.72973848575486   </td></tr>\n",
       "<tr><td>maxs   </td><td>NaN                          </td><td>NaN      </td><td>                </td><td>36.13966248879052    </td><td>15.126994288792469</td><td>40.005181638101895</td><td>6.922689335035807     </td><td>765.5184619388372    </td></tr>\n",
       "<tr><td>sigma  </td><td>NaN                          </td><td>NaN      </td><td>                </td><td>0.9917277261077061   </td><td>0.9937713490575559</td><td>1.0093853634694294</td><td>0.9981036761311914    </td><td>79.20190023127178    </td></tr>\n",
       "<tr><td>zeros  </td><td>0                            </td><td>0        </td><td>                </td><td>0                    </td><td>0                 </td><td>0                 </td><td>0                     </td><td>0                    </td></tr>\n",
       "<tr><td>missing</td><td>0                            </td><td>0        </td><td>0               </td><td>0                    </td><td>0                 </td><td>0                 </td><td>0                     </td><td>0                    </td></tr>\n",
       "<tr><td>0      </td><td>mstephenson@fernandez.com    </td><td>835 Frank Tunnel\n",
       "Wrightmouth, MI 82180-9605          </td><td>Violet          </td><td>34.49726772511229    </td><td>12.655651149166752</td><td>39.57766801952616 </td><td>4.082620632952961     </td><td>587.9510539684005    </td></tr>\n",
       "<tr><td>1      </td><td>hduke@hotmail.com            </td><td>4547 Archer Common\n",
       "Diazchester, CA 06566-8576          </td><td>DarkGreen       </td><td>31.926272026360156   </td><td>11.109460728682564</td><td>37.268958868297744</td><td>2.66403418213262      </td><td>392.2049334443264    </td></tr>\n",
       "<tr><td>2      </td><td>pallen@yahoo.com             </td><td>24645 Valerie Unions Suite 582\n",
       "Cobbborough, DC 99414-7564          </td><td>Bisque          </td><td>33.000914755642675   </td><td>11.330278057777512</td><td>37.11059744212085 </td><td>4.104543202376424     </td><td>487.54750486747207   </td></tr>\n",
       "<tr><td>3      </td><td>riverarebecca@gmail.com      </td><td>1414 David Throughway\n",
       "Port Jason, OH 22070-1220          </td><td>SaddleBrown     </td><td>34.30555662975554    </td><td>13.717513665142508</td><td>36.72128267790313 </td><td>3.1201787827480914    </td><td>581.8523440352178    </td></tr>\n",
       "<tr><td>4      </td><td>mstephens@davidson-herman.com</td><td>14023 Rodriguez Passage\n",
       "Port Jacobville, PR 37242-1057          </td><td>MediumAquaMarine</td><td>33.33067252364639    </td><td>12.795188551078114</td><td>37.53665330059473 </td><td>4.446308318351435     </td><td>599.4060920457634    </td></tr>\n",
       "<tr><td>5      </td><td>alvareznancy@lucas.biz       </td><td>645 Martha Park Apt. 611\n",
       "Jeffreychester, MN 67218-7250          </td><td>FloralWhite     </td><td>33.87103787934198    </td><td>12.026925339755058</td><td>34.47687762925054 </td><td>5.493507201364199     </td><td>637.102447915074     </td></tr>\n",
       "<tr><td>6      </td><td>katherine20@yahoo.com        </td><td>68388 Reyes Lights Suite 692\n",
       "Josephbury, WV 92213-0247          </td><td>DarkSlateBlue   </td><td>32.02159550138701    </td><td>11.366348309710526</td><td>36.683776152869605</td><td>4.6850172465709115    </td><td>521.5721747578274    </td></tr>\n",
       "<tr><td>7      </td><td>awatkins@yahoo.com           </td><td>Unit 6538 Box 8980\n",
       "DPO AP 09026-4941          </td><td>Aqua            </td><td>32.739142938380326   </td><td>12.35195897300293 </td><td>37.373358858547554</td><td>4.4342734348999375    </td><td>549.9041461052942    </td></tr>\n",
       "<tr><td>8      </td><td>vchurch@walter-martinez.com  </td><td>860 Lee Key\n",
       "West Debra, SD 97450-0495          </td><td>Salmon          </td><td>33.98777289568564    </td><td>13.386235275676434</td><td>37.534497341555735</td><td>3.2734335777477144    </td><td>570.2004089636195    </td></tr>\n",
       "<tr><td>9      </td><td>bonnie69@lin.biz             </td><td>PSC 2734, Box 5255\n",
       "APO AA 98456-7482          </td><td>Brown           </td><td>31.936548618448914   </td><td>11.814128294972196</td><td>37.14516822352819 </td><td>3.202806071553459     </td><td>427.19938489532814   </td></tr>\n",
       "</tbody>\n",
       "</table>"
      ]
     },
     "metadata": {},
     "output_type": "display_data"
    }
   ],
   "source": [
    "data.describe()"
   ]
  },
  {
   "cell_type": "code",
   "execution_count": 5,
   "metadata": {},
   "outputs": [
    {
     "name": "stdout",
     "output_type": "stream",
     "text": [
      "(412, 8) (92, 8)\n"
     ]
    }
   ],
   "source": [
    "i_split = data.split_frame(ratios = [0.8], seed = 1234)\n",
    "train = i_split[0] # using 80% for training\n",
    "test = i_split[1] #rest 20% for testing\n",
    "print(train.shape, test.shape)"
   ]
  },
  {
   "cell_type": "code",
   "execution_count": 20,
   "metadata": {},
   "outputs": [],
   "source": [
    "#predictors = list(data.columns) \n",
    "#predictors.remove('Yearly Amount Spent')  # Since we need to predict quality\n",
    "#predictorsX = customers[['Avg. Session Length', 'Time on App','Time on Website', 'Length of Membership']]"
   ]
  },
  {
   "cell_type": "code",
   "execution_count": 6,
   "metadata": {},
   "outputs": [],
   "source": [
    "# set the predictor names and the response column name\n",
    "predictors= ['Avg. Session Length', 'Time on App','Time on Website', 'Length of Membership']\n",
    "response = 'Yearly Amount Spent'\n",
    "\n",
    "# split into train and validation sets\n",
    "#train, valid= airlines.split_frame(ratios = [.8], seed = 1234)\n",
    "i_split = data.split_frame(ratios = [0.8], seed = 1234)\n",
    "train = i_split[0] # using 80% for training\n",
    "test = i_split[1] #rest 20% for testing\n"
   ]
  },
  {
   "cell_type": "code",
   "execution_count": 37,
   "metadata": {},
   "outputs": [
    {
     "name": "stdout",
     "output_type": "stream",
     "text": [
      "glm Model Build progress: |███████████████████████████████████████████████| 100%\n",
      "Model Details\n",
      "=============\n",
      "H2OGeneralizedLinearEstimator :  Generalized Linear Modeling\n",
      "Model Key:  glm_default\n",
      "\n",
      "\n",
      "ModelMetricsRegressionGLM: glm\n",
      "** Reported on train data. **\n",
      "\n",
      "MSE: 117.69015885888226\n",
      "RMSE: 10.848509522458938\n",
      "MAE: 8.705021783158994\n",
      "RMSLE: 0.023043859604485847\n",
      "R^2: 0.9805143592183289\n",
      "Mean Residual Deviance: 117.69015885888226\n",
      "Null degrees of freedom: 411\n",
      "Residual degrees of freedom: 407\n",
      "Null deviance: 2488414.2119395323\n",
      "Residual deviance: 48488.34544985949\n",
      "AIC: 3145.6441756235995\n",
      "Scoring History: \n"
     ]
    },
    {
     "data": {
      "text/html": [
       "<div style=\"overflow:auto\"><table style=\"width:50%\"><tr><td><b></b></td>\n",
       "<td><b>timestamp</b></td>\n",
       "<td><b>duration</b></td>\n",
       "<td><b>iterations</b></td>\n",
       "<td><b>negative_log_likelihood</b></td>\n",
       "<td><b>objective</b></td></tr>\n",
       "<tr><td></td>\n",
       "<td>2019-05-02 11:53:50</td>\n",
       "<td> 0.000 sec</td>\n",
       "<td>0</td>\n",
       "<td>2488414.2428913</td>\n",
       "<td>6039.8403954</td></tr></table></div>"
      ],
      "text/plain": [
       "    timestamp            duration    iterations    negative_log_likelihood    objective\n",
       "--  -------------------  ----------  ------------  -------------------------  -----------\n",
       "    2019-05-02 11:53:50  0.000 sec   0             2.48841e+06                6039.84"
      ]
     },
     "metadata": {},
     "output_type": "display_data"
    },
    {
     "name": "stdout",
     "output_type": "stream",
     "text": [
      "\n"
     ]
    }
   ],
   "source": [
    "# Import the function for GLM\n",
    "from h2o.estimators.glm import H2OGeneralizedLinearEstimator\n",
    "# Set up GLM for regression\n",
    "glm = H2OGeneralizedLinearEstimator(family = 'gaussian', model_id = 'glm_default', seed=101)\n",
    "# Use .train() to build the model\n",
    "glm.train(x = predictors, y = response, training_frame = train)\n",
    "print(glm)"
   ]
  },
  {
   "cell_type": "code",
   "execution_count": 27,
   "metadata": {},
   "outputs": [
    {
     "name": "stdout",
     "output_type": "stream",
     "text": [
      "\n",
      "ModelMetricsRegressionGLM: glm\n",
      "** Reported on test data. **\n",
      "\n",
      "MSE: 107.00226498567814\n",
      "RMSE: 10.344189914424335\n",
      "MAE: 7.97503771943003\n",
      "RMSLE: 0.02109659645191879\n",
      "R^2: 0.9834809788953867\n",
      "Mean Residual Deviance: 107.00226498567814\n",
      "Null degrees of freedom: 137\n",
      "Residual degrees of freedom: 134\n",
      "Null deviance: 917888.4566935622\n",
      "Residual deviance: 14766.312568023583\n",
      "AIC: 1046.480335485797\n"
     ]
    },
    {
     "data": {
      "text/plain": []
     },
     "execution_count": 27,
     "metadata": {},
     "output_type": "execute_result"
    }
   ],
   "source": [
    "glm.model_performance(test)"
   ]
  },
  {
   "cell_type": "code",
   "execution_count": 24,
   "metadata": {},
   "outputs": [
    {
     "name": "stdout",
     "output_type": "stream",
     "text": [
      "glm prediction progress: |████████████████████████████████████████████████| 100%\n"
     ]
    },
    {
     "data": {
      "text/html": [
       "<table>\n",
       "<thead>\n",
       "<tr><th style=\"text-align: right;\">  predict</th></tr>\n",
       "</thead>\n",
       "<tbody>\n",
       "<tr><td style=\"text-align: right;\">  565.429</td></tr>\n",
       "<tr><td style=\"text-align: right;\">  443.908</td></tr>\n",
       "<tr><td style=\"text-align: right;\">  461.637</td></tr>\n",
       "<tr><td style=\"text-align: right;\">  415.432</td></tr>\n",
       "<tr><td style=\"text-align: right;\">  456.43 </td></tr>\n",
       "</tbody>\n",
       "</table>"
      ]
     },
     "metadata": {},
     "output_type": "display_data"
    },
    {
     "data": {
      "text/plain": []
     },
     "execution_count": 24,
     "metadata": {},
     "output_type": "execute_result"
    }
   ],
   "source": [
    "y_pred = glm.predict(test)\n",
    "y_pred.head(5)"
   ]
  },
  {
   "cell_type": "code",
   "execution_count": 40,
   "metadata": {},
   "outputs": [
    {
     "name": "stdout",
     "output_type": "stream",
     "text": [
      "{'Intercept': -953.1137343684493, 'Avg. Session Length': 24.37358388794061, 'Time on App': 36.07544668780875, 'Time on Website': 0.14701057397898407, 'Length of Membership': 58.37160190373424}\n"
     ]
    }
   ],
   "source": [
    "# Coefficients that can be applied to the non-standardized data.\n",
    "print(glm.coef())"
   ]
  },
  {
   "cell_type": "code",
   "execution_count": 41,
   "metadata": {},
   "outputs": [
    {
     "name": "stdout",
     "output_type": "stream",
     "text": [
      "{'Intercept': 496.9119100576219, 'Avg. Session Length': 24.105640311998943, 'Time on App': 35.30801137045289, 'Time on Website': 0.14949588391068136, 'Length of Membership': 57.762508515604864}\n"
     ]
    }
   ],
   "source": [
    "# Coefficients fitted on the standardized data (requires standardize = True, which is on by default)\n",
    "print(glm.coef_norm())\n"
   ]
  },
  {
   "cell_type": "code",
   "execution_count": 43,
   "metadata": {},
   "outputs": [
    {
     "name": "stdout",
     "output_type": "stream",
     "text": [
      "Coefficients: glm coefficients\n",
      "\n"
     ]
    },
    {
     "data": {
      "text/html": [
       "<div style=\"overflow:auto\"><table style=\"width:50%\"><tr><td><b>names</b></td>\n",
       "<td><b>coefficients</b></td>\n",
       "<td><b>standardized_coefficients</b></td></tr>\n",
       "<tr><td>Intercept</td>\n",
       "<td>-953.1137344</td>\n",
       "<td>496.9119101</td></tr>\n",
       "<tr><td>Avg. Session Length</td>\n",
       "<td>24.3735839</td>\n",
       "<td>24.1056403</td></tr>\n",
       "<tr><td>Time on App</td>\n",
       "<td>36.0754467</td>\n",
       "<td>35.3080114</td></tr>\n",
       "<tr><td>Time on Website</td>\n",
       "<td>0.1470106</td>\n",
       "<td>0.1494959</td></tr>\n",
       "<tr><td>Length of Membership</td>\n",
       "<td>58.3716019</td>\n",
       "<td>57.7625085</td></tr></table></div>"
      ],
      "text/plain": [
       "names                 coefficients    standardized_coefficients\n",
       "--------------------  --------------  ---------------------------\n",
       "Intercept             -953.114        496.912\n",
       "Avg. Session Length   24.3736         24.1056\n",
       "Time on App           36.0754         35.308\n",
       "Time on Website       0.147011        0.149496\n",
       "Length of Membership  58.3716         57.7625"
      ]
     },
     "metadata": {},
     "output_type": "display_data"
    },
    {
     "data": {
      "text/plain": []
     },
     "execution_count": 43,
     "metadata": {},
     "output_type": "execute_result"
    }
   ],
   "source": [
    "# Print the Coefficients table\n",
    "glm._model_json['output']['coefficients_table']"
   ]
  },
  {
   "cell_type": "markdown",
   "metadata": {},
   "source": [
    "# Interpretation with Coefficients \n",
    "\n",
    "\n",
    "-Holding all other features fixed, a 1 unit increase in Avg. Session Length is associated with an increase of 24.10 total dollars spent.\n",
    "\n",
    "-Holding all other features fixed, a 1 unit increase in Time on App is associated with an increase of 35.31 total dollars spent.\n",
    "\n",
    "-Holding all other features fixed, a 1 unit increase in Time on Website is associated with an increase of 0.15 total dollars spent.\n",
    "\n",
    "-Holding all other features fixed, a 1 unit increase in Length of Membership is associated with an increase of 57.76 total dollars spent.\n",
    "\n",
    "# Advice to the Company\n",
    "\n",
    "There are two ways to think about this: Develop the Website to catch up to the performance of the mobile app, or develop the app more since that is what is working better. This sort of answer really depends on the other factors going on at the company, you would probably want to explore the relationship between Length of Membership and the App or the Website before coming to a conclusion!"
   ]
  },
  {
   "cell_type": "code",
   "execution_count": 46,
   "metadata": {},
   "outputs": [
    {
     "name": "stderr",
     "output_type": "stream",
     "text": [
      "C:\\Users\\maria\\Anaconda3\\lib\\site-packages\\matplotlib\\cbook\\deprecation.py:107: MatplotlibDeprecationWarning: Passing one of 'on', 'true', 'off', 'false' as a boolean is deprecated; use an actual boolean (True/False) instead.\n",
      "  warnings.warn(message, mplDeprecation, stacklevel=1)\n",
      "C:\\Users\\maria\\Anaconda3\\lib\\site-packages\\matplotlib\\cbook\\deprecation.py:107: MatplotlibDeprecationWarning: Passing one of 'on', 'true', 'off', 'false' as a boolean is deprecated; use an actual boolean (True/False) instead.\n",
      "  warnings.warn(message, mplDeprecation, stacklevel=1)\n",
      "C:\\Users\\maria\\Anaconda3\\lib\\site-packages\\matplotlib\\cbook\\deprecation.py:107: MatplotlibDeprecationWarning: Passing one of 'on', 'true', 'off', 'false' as a boolean is deprecated; use an actual boolean (True/False) instead.\n",
      "  warnings.warn(message, mplDeprecation, stacklevel=1)\n"
     ]
    },
    {
     "data": {
      "image/png": "[encoded data removed]",
      "text/plain": [
       "<Figure size 1008x720 with 1 Axes>"
      ]
     },
     "metadata": {},
     "output_type": "display_data"
    }
   ],
   "source": [
    "# Retrieve a graphical plot of the standardized coefficient magnitudes\n",
    "glm.std_coef_plot()"
   ]
  },
  {
   "cell_type": "markdown",
   "metadata": {},
   "source": [
    "# Linear regression ith H2OAutoML"
   ]
  },
  {
   "cell_type": "code",
   "execution_count": 7,
   "metadata": {},
   "outputs": [],
   "source": [
    "from h2o.automl import H2OAutoML\n",
    "aml = H2OAutoML(max_models = 20, max_runtime_secs=100, seed = 1) # default time is one hour"
   ]
  },
  {
   "cell_type": "code",
   "execution_count": 8,
   "metadata": {},
   "outputs": [
    {
     "name": "stdout",
     "output_type": "stream",
     "text": [
      "AutoML progress: |████████████████████████████████████████████████████████| 100%\n"
     ]
    }
   ],
   "source": [
    "bml= aml.train(x=predictors, y=response, training_frame=train, validation_frame=test)"
   ]
  },
  {
   "cell_type": "code",
   "execution_count": 10,
   "metadata": {},
   "outputs": [
    {
     "data": {
      "text/html": [
       "<table>\n",
       "<thead>\n",
       "<tr><th>model_id                                           </th><th style=\"text-align: right;\">  mean_residual_deviance</th><th style=\"text-align: right;\">   rmse</th><th style=\"text-align: right;\">    mse</th><th style=\"text-align: right;\">     mae</th><th style=\"text-align: right;\">    rmsle</th></tr>\n",
       "</thead>\n",
       "<tbody>\n",
       "<tr><td>GLM_grid_1_AutoML_20190515_130803_model_1          </td><td style=\"text-align: right;\">                 101.376</td><td style=\"text-align: right;\">10.0686</td><td style=\"text-align: right;\">101.376</td><td style=\"text-align: right;\"> 8.04254</td><td style=\"text-align: right;\">0.0208064</td></tr>\n",
       "<tr><td>StackedEnsemble_AllModels_AutoML_20190515_130803   </td><td style=\"text-align: right;\">                 106.568</td><td style=\"text-align: right;\">10.3232</td><td style=\"text-align: right;\">106.568</td><td style=\"text-align: right;\"> 8.29745</td><td style=\"text-align: right;\">0.0217005</td></tr>\n",
       "<tr><td>StackedEnsemble_BestOfFamily_AutoML_20190515_130803</td><td style=\"text-align: right;\">                 107.865</td><td style=\"text-align: right;\">10.3858</td><td style=\"text-align: right;\">107.865</td><td style=\"text-align: right;\"> 8.23957</td><td style=\"text-align: right;\">0.0216734</td></tr>\n",
       "<tr><td>DeepLearning_grid_1_AutoML_20190515_130803_model_1 </td><td style=\"text-align: right;\">                 146.883</td><td style=\"text-align: right;\">12.1195</td><td style=\"text-align: right;\">146.883</td><td style=\"text-align: right;\"> 9.48636</td><td style=\"text-align: right;\">0.0254495</td></tr>\n",
       "<tr><td>DeepLearning_grid_1_AutoML_20190515_130803_model_3 </td><td style=\"text-align: right;\">                 228.652</td><td style=\"text-align: right;\">15.1212</td><td style=\"text-align: right;\">228.652</td><td style=\"text-align: right;\">11.8869 </td><td style=\"text-align: right;\">0.0331941</td></tr>\n",
       "<tr><td>DeepLearning_grid_1_AutoML_20190515_130803_model_2 </td><td style=\"text-align: right;\">                 260.867</td><td style=\"text-align: right;\">16.1514</td><td style=\"text-align: right;\">260.867</td><td style=\"text-align: right;\">13.0717 </td><td style=\"text-align: right;\">0.0338416</td></tr>\n",
       "<tr><td>GBM_3_AutoML_20190515_130803                       </td><td style=\"text-align: right;\">                 293.517</td><td style=\"text-align: right;\">17.1324</td><td style=\"text-align: right;\">293.517</td><td style=\"text-align: right;\">12.6414 </td><td style=\"text-align: right;\">0.0377495</td></tr>\n",
       "<tr><td>GBM_4_AutoML_20190515_130803                       </td><td style=\"text-align: right;\">                 304.071</td><td style=\"text-align: right;\">17.4376</td><td style=\"text-align: right;\">304.071</td><td style=\"text-align: right;\">12.9557 </td><td style=\"text-align: right;\">0.0383573</td></tr>\n",
       "<tr><td>GBM_2_AutoML_20190515_130803                       </td><td style=\"text-align: right;\">                 307.056</td><td style=\"text-align: right;\">17.523 </td><td style=\"text-align: right;\">307.056</td><td style=\"text-align: right;\">13.0283 </td><td style=\"text-align: right;\">0.0387149</td></tr>\n",
       "<tr><td>DeepLearning_1_AutoML_20190515_130803              </td><td style=\"text-align: right;\">                 450.528</td><td style=\"text-align: right;\">21.2256</td><td style=\"text-align: right;\">450.528</td><td style=\"text-align: right;\">15.3175 </td><td style=\"text-align: right;\">0.0455554</td></tr>\n",
       "</tbody>\n",
       "</table>"
      ]
     },
     "metadata": {},
     "output_type": "display_data"
    },
    {
     "name": "stdout",
     "output_type": "stream",
     "text": [
      "\n"
     ]
    }
   ],
   "source": [
    "print(aml.leaderboard)"
   ]
  },
  {
   "cell_type": "code",
   "execution_count": 1,
   "metadata": {},
   "outputs": [],
   "source": [
    "#metalearners = h2o.get_model(aml.leader.metalearner()['name'])\n",
    "#metalearners.std_coef_plot()"
   ]
  },
  {
   "cell_type": "code",
   "execution_count": 11,
   "metadata": {},
   "outputs": [
    {
     "name": "stdout",
     "output_type": "stream",
     "text": [
      "glm prediction progress: |████████████████████████████████████████████████| 100%\n"
     ]
    }
   ],
   "source": [
    "preds = aml.leader.predict(test)"
   ]
  },
  {
   "cell_type": "code",
   "execution_count": 12,
   "metadata": {},
   "outputs": [
    {
     "data": {
      "text/html": [
       "<table>\n",
       "<thead>\n",
       "<tr><th style=\"text-align: right;\">  predict</th></tr>\n",
       "</thead>\n",
       "<tbody>\n",
       "<tr><td style=\"text-align: right;\">  569.098</td></tr>\n",
       "<tr><td style=\"text-align: right;\">  441.051</td></tr>\n",
       "<tr><td style=\"text-align: right;\">  459.687</td></tr>\n",
       "<tr><td style=\"text-align: right;\">  411.312</td></tr>\n",
       "<tr><td style=\"text-align: right;\">  454.438</td></tr>\n",
       "</tbody>\n",
       "</table>"
      ]
     },
     "metadata": {},
     "output_type": "display_data"
    },
    {
     "data": {
      "text/plain": []
     },
     "execution_count": 12,
     "metadata": {},
     "output_type": "execute_result"
    }
   ],
   "source": [
    "preds.head(5)"
   ]
  },
  {
   "cell_type": "code",
   "execution_count": 16,
   "metadata": {},
   "outputs": [
    {
     "ename": "AttributeError",
     "evalue": "'H2OAutoML' object has no attribute 'coef'",
     "output_type": "error",
     "traceback": [
      "\u001b[1;31m---------------------------------------------------------------------------\u001b[0m",
      "\u001b[1;31mAttributeError\u001b[0m                            Traceback (most recent call last)",
      "\u001b[1;32m<ipython-input-16-33037a0ab000>\u001b[0m in \u001b[0;36m<module>\u001b[1;34m()\u001b[0m\n\u001b[0;32m      1\u001b[0m \u001b[1;31m# Coefficients that can be applied to the non-standardized data.\u001b[0m\u001b[1;33m\u001b[0m\u001b[1;33m\u001b[0m\u001b[0m\n\u001b[1;32m----> 2\u001b[1;33m \u001b[0mprint\u001b[0m\u001b[1;33m(\u001b[0m\u001b[0maml\u001b[0m\u001b[1;33m.\u001b[0m\u001b[0mcoef\u001b[0m\u001b[1;33m(\u001b[0m\u001b[1;33m)\u001b[0m\u001b[1;33m)\u001b[0m\u001b[1;33m\u001b[0m\u001b[0m\n\u001b[0m",
      "\u001b[1;31mAttributeError\u001b[0m: 'H2OAutoML' object has no attribute 'coef'"
     ]
    }
   ],
   "source": [
    "# Coefficients that can be applied to the non-standardized data.\n",
    "print(aml.coef())"
   ]
  },
  {
   "cell_type": "code",
   "execution_count": null,
   "metadata": {},
   "outputs": [],
   "source": []
  }
 ],
 "metadata": {
  "kernelspec": {
   "display_name": "Python 3",
   "language": "python",
   "name": "python3"
  },
  "language_info": {
   "codemirror_mode": {
    "name": "ipython",
    "version": 3
   },
   "file_extension": ".py",
   "mimetype": "text/x-python",
   "name": "python",
   "nbconvert_exporter": "python",
   "pygments_lexer": "ipython3",
   "version": "3.6.5"
  }
 },
 "nbformat": 4,
 "nbformat_minor": 2
}
