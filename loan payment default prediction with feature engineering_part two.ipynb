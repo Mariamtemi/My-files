{
 "cells": [
  {
   "cell_type": "markdown",
   "metadata": {
    "colab_type": "text",
    "id": "KyZCiXIBQC3B"
   },
   "source": [
    "# The use of feature Engineering to improve model performance"
   ]
  },
  {
   "cell_type": "markdown",
   "metadata": {
    "_uuid": "b41b6f01833e0d8f363dc032b77c42c2fcd28448",
    "colab_type": "text",
    "id": "Xca_iuSauasf"
   },
   "source": [
    "This is a basic notebook to train a  random forest classifier using the scikit learn random forest library to predict whether clients will default loan repayment . "
   ]
  },
  {
   "cell_type": "markdown",
   "metadata": {
    "colab_type": "text",
    "id": "ZwH98TdHjMQF"
   },
   "source": [
    "#Import the required modules"
   ]
  },
  {
   "cell_type": "code",
   "execution_count": 1,
   "metadata": {
    "colab": {},
    "colab_type": "code",
    "id": "DtsGs7ZaN84g"
   },
   "outputs": [],
   "source": [
    "import warnings\n",
    "warnings.simplefilter(action='ignore', category=FutureWarning)\n",
    "import pandas as pd\n",
    "import numpy as np\n",
    "from sklearn import preprocessing\n",
    "import matplotlib.pyplot as plt \n",
    "plt.rc(\"font\", size=14)\n",
    "from sklearn.model_selection import train_test_split\n",
    "import seaborn as sns\n",
    "sns.set(style=\"white\")\n",
    "sns.set(style=\"whitegrid\", color_codes=True)"
   ]
  },
  {
   "cell_type": "code",
   "execution_count": 2,
   "metadata": {
    "colab": {
     "base_uri": "https://localhost:8080/",
     "height": 88
    },
    "colab_type": "code",
    "executionInfo": {
     "elapsed": 2847,
     "status": "ok",
     "timestamp": 1555070289438,
     "user": {
      "displayName": "Mariam Atoyebi",
      "photoUrl": "",
      "userId": "13636599551709261360"
     },
     "user_tz": -60
    },
    "id": "xmB5sAVKN9GE",
    "outputId": "baf7689a-176a-418a-cd5c-89fb491746ea"
   },
   "outputs": [
    {
     "name": "stderr",
     "output_type": "stream",
     "text": [
      "C:\\Users\\maria\\Anaconda3\\lib\\site-packages\\IPython\\core\\interactiveshell.py:2785: DtypeWarning: Columns (2,12,27,33) have mixed types. Specify dtype option on import or set low_memory=False.\n",
      "  interactivity=interactivity, compiler=compiler, result=result)\n"
     ]
    },
    {
     "name": "stdout",
     "output_type": "stream",
     "text": [
      "(159596, 35)\n"
     ]
    }
   ],
   "source": [
    "data = pd.read_csv('loan_challenge.csv', header=0)\n",
    "print(data.shape)\n"
   ]
  },
  {
   "cell_type": "code",
   "execution_count": null,
   "metadata": {
    "colab": {
     "base_uri": "https://localhost:8080/",
     "height": 34
    },
    "colab_type": "code",
    "executionInfo": {
     "elapsed": 1038,
     "status": "ok",
     "timestamp": 1555070335665,
     "user": {
      "displayName": "Mariam Atoyebi",
      "photoUrl": "",
      "userId": "13636599551709261360"
     },
     "user_tz": -60
    },
    "id": "S2FBVB1rOj16",
    "outputId": "7c1f86b7-dc1a-433c-bca6-1e9a956959a5"
   },
   "outputs": [],
   "source": [
    "#data.info()\n",
    "data.isnull().values.any()\n"
   ]
  },
  {
   "cell_type": "code",
   "execution_count": 7,
   "metadata": {},
   "outputs": [
    {
     "data": {
      "text/plain": [
       "clientIncome                        float64\n",
       "incomeVerified                       object\n",
       "clientAge                             int64\n",
       "clientGender                         object\n",
       "clientMaritalStatus                  object\n",
       "clientLoanPurpose                    object\n",
       "clientResidentialStauts              object\n",
       "clientState                          object\n",
       "clientTimeAtEmployer                float64\n",
       "clientNumberPhoneContacts            object\n",
       "clientAvgCallsPerDay                 object\n",
       "loanNumber                            int64\n",
       "applicationDate              datetime64[ns]\n",
       "approvalDate                 datetime64[ns]\n",
       "disbursementDate             datetime64[ns]\n",
       "payout_status                        object\n",
       "dueDate                      datetime64[ns]\n",
       "paidAt                       datetime64[ns]\n",
       "loanAmount                            int64\n",
       "interestRate                        float64\n",
       "loanTerm                              int64\n",
       "max_amount_taken                      int64\n",
       "max_tenor_taken                       int64\n",
       "repaidDate                   datetime64[ns]\n",
       "repaymentDueDate                     object\n",
       "settleDays                            int64\n",
       "firstPaymentRatio                   float64\n",
       "firstPaymentDefault                   int64\n",
       "loanDefault                           int64\n",
       "repaymnentDueDate            datetime64[ns]\n",
       "dtype: object"
      ]
     },
     "execution_count": 7,
     "metadata": {},
     "output_type": "execute_result"
    }
   ],
   "source": [
    "data.dtypes"
   ]
  },
  {
   "cell_type": "markdown",
   "metadata": {
    "colab_type": "text",
    "id": "WbbPSqJgCNGL"
   },
   "source": [
    "**Fixing some columns**\n",
    "\n",
    "1)  conversion of the date columns to the correct format.\n",
    "\n",
    "2) obtaining the absolute values for the settleDays column\n",
    "\n",
    "3) converting the string values of clienttimeatEmployer to numeric values\n"
   ]
  },
  {
   "cell_type": "markdown",
   "metadata": {
    "colab_type": "text",
    "id": "NdzGZEXoQV_h"
   },
   "source": [
    "-Let's drop some columns,\n",
    "-for the client time at employer column(no of months at the employer's place), it was observed that the 36+ value as converted to NAN, we have to convert it io 36."
   ]
  },
  {
   "cell_type": "code",
   "execution_count": 3,
   "metadata": {},
   "outputs": [],
   "source": [
    "data['clientTimeAtEmployer']= data['clientTimeAtEmployer'].replace('36+',36)"
   ]
  },
  {
   "cell_type": "code",
   "execution_count": 4,
   "metadata": {
    "colab": {},
    "colab_type": "code",
    "id": "zo7kEiScCGPU"
   },
   "outputs": [],
   "source": [
    "data['applicationDate'] =  pd.to_datetime(data['applicationDate'],errors=\"coerce\"  )\n",
    "data['approvalDate'] =  pd.to_datetime(data['approvalDate'],errors=\"coerce\" )\n",
    "data['disbursementDate'] =  pd.to_datetime(data['disbursementDate'],errors=\"coerce\" )\n",
    "data['dueDate'] =  pd.to_datetime(data['dueDate'], errors=\"coerce\" )\n",
    "data['paidAt'] =  pd.to_datetime(data['paidAt'],errors=\"coerce\" )\n",
    "data['repaidDate'] =  pd.to_datetime(data['repaidDate'],errors=\"coerce\" )\n",
    "data['repaymnentDueDate'] =  pd.to_datetime(data['repaymentDueDate'], errors=\"coerce\" )\n",
    "data['settleDays'] = data['settleDays'].abs()\n",
    "data['clientTimeAtEmployer'] = pd.to_numeric(data['clientTimeAtEmployer'], errors='coerce')"
   ]
  },
  {
   "cell_type": "markdown",
   "metadata": {},
   "source": [
    "dropping irrelevant columns"
   ]
  },
  {
   "cell_type": "code",
   "execution_count": null,
   "metadata": {},
   "outputs": [],
   "source": [
    "data= data.drop(['loanType','declinedDate','clientId','loanId','id','ids'], axis=1)\n",
    "data = data.drop(['payout_status'], axis=1) \n",
    "data = data.drop(['repaidDate','repaymentDueDate'], axis=1) "
   ]
  },
  {
   "cell_type": "markdown",
   "metadata": {},
   "source": [
    "# feature engineering with the date data"
   ]
  },
  {
   "cell_type": "code",
   "execution_count": null,
   "metadata": {},
   "outputs": [],
   "source": [
    "#we need to drop some date columns to avoid data leakage"
   ]
  },
  {
   "cell_type": "code",
   "execution_count": 16,
   "metadata": {},
   "outputs": [],
   "source": [
    "data['disburse'] = (data['disbursementDate']- data['approvalDate']).abs()\n",
    "data['duepaid']= (data['paidAt']-data['dueDate']).abs()"
   ]
  },
  {
   "cell_type": "code",
   "execution_count": 17,
   "metadata": {
    "colab": {
     "base_uri": "https://localhost:8080/",
     "height": 338
    },
    "colab_type": "code",
    "executionInfo": {
     "elapsed": 1229,
     "status": "ok",
     "timestamp": 1554971909653,
     "user": {
      "displayName": "Mariam Atoyebi",
      "photoUrl": "",
      "userId": "13636599551709261360"
     },
     "user_tz": -60
    },
    "id": "tcZprtcUOjv2",
    "outputId": "29d200dd-f860-453b-c57e-bd9b066e2142"
   },
   "outputs": [
    {
     "data": {
      "text/html": [
       "<div>\n",
       "<style scoped>\n",
       "    .dataframe tbody tr th:only-of-type {\n",
       "        vertical-align: middle;\n",
       "    }\n",
       "\n",
       "    .dataframe tbody tr th {\n",
       "        vertical-align: top;\n",
       "    }\n",
       "\n",
       "    .dataframe thead th {\n",
       "        text-align: right;\n",
       "    }\n",
       "</style>\n",
       "<table border=\"1\" class=\"dataframe\">\n",
       "  <thead>\n",
       "    <tr style=\"text-align: right;\">\n",
       "      <th></th>\n",
       "      <th>clientIncome</th>\n",
       "      <th>clientAge</th>\n",
       "      <th>clientState</th>\n",
       "      <th>clientTimeAtEmployer</th>\n",
       "      <th>clientNumberPhoneContacts</th>\n",
       "      <th>clientAvgCallsPerDay</th>\n",
       "      <th>loanNumber</th>\n",
       "      <th>loanAmount</th>\n",
       "      <th>interestRate</th>\n",
       "      <th>loanTerm</th>\n",
       "      <th>...</th>\n",
       "      <th>clientLoanPurpose_house</th>\n",
       "      <th>clientLoanPurpose_medical</th>\n",
       "      <th>clientLoanPurpose_other</th>\n",
       "      <th>clientResidentialStauts_Family Owned</th>\n",
       "      <th>clientResidentialStauts_Null</th>\n",
       "      <th>clientResidentialStauts_Own Residence</th>\n",
       "      <th>clientResidentialStauts_Rented</th>\n",
       "      <th>clientResidentialStauts_Temp. Residence</th>\n",
       "      <th>disburse</th>\n",
       "      <th>duepaid</th>\n",
       "    </tr>\n",
       "  </thead>\n",
       "  <tbody>\n",
       "    <tr>\n",
       "      <th>0</th>\n",
       "      <td>35000.00</td>\n",
       "      <td>28</td>\n",
       "      <td>OYO</td>\n",
       "      <td>36.0</td>\n",
       "      <td>1917</td>\n",
       "      <td>0.259357403</td>\n",
       "      <td>4</td>\n",
       "      <td>37500</td>\n",
       "      <td>12.5</td>\n",
       "      <td>90</td>\n",
       "      <td>...</td>\n",
       "      <td>1</td>\n",
       "      <td>0</td>\n",
       "      <td>0</td>\n",
       "      <td>0</td>\n",
       "      <td>0</td>\n",
       "      <td>1</td>\n",
       "      <td>0</td>\n",
       "      <td>0</td>\n",
       "      <td>0 days</td>\n",
       "      <td>1 days 00:36:29</td>\n",
       "    </tr>\n",
       "    <tr>\n",
       "      <th>1</th>\n",
       "      <td>70833.33</td>\n",
       "      <td>41</td>\n",
       "      <td>KWARA</td>\n",
       "      <td>36.0</td>\n",
       "      <td>5678</td>\n",
       "      <td>296.338843</td>\n",
       "      <td>8</td>\n",
       "      <td>84500</td>\n",
       "      <td>7.5</td>\n",
       "      <td>180</td>\n",
       "      <td>...</td>\n",
       "      <td>0</td>\n",
       "      <td>0</td>\n",
       "      <td>0</td>\n",
       "      <td>0</td>\n",
       "      <td>0</td>\n",
       "      <td>1</td>\n",
       "      <td>0</td>\n",
       "      <td>0</td>\n",
       "      <td>0 days</td>\n",
       "      <td>97 days 03:45:51</td>\n",
       "    </tr>\n",
       "    <tr>\n",
       "      <th>2</th>\n",
       "      <td>25000.00</td>\n",
       "      <td>38</td>\n",
       "      <td>LAGOS</td>\n",
       "      <td>36.0</td>\n",
       "      <td>231</td>\n",
       "      <td>7.875</td>\n",
       "      <td>2</td>\n",
       "      <td>25000</td>\n",
       "      <td>15.0</td>\n",
       "      <td>60</td>\n",
       "      <td>...</td>\n",
       "      <td>1</td>\n",
       "      <td>0</td>\n",
       "      <td>0</td>\n",
       "      <td>0</td>\n",
       "      <td>0</td>\n",
       "      <td>0</td>\n",
       "      <td>1</td>\n",
       "      <td>0</td>\n",
       "      <td>0 days</td>\n",
       "      <td>2 days 02:48:30</td>\n",
       "    </tr>\n",
       "    <tr>\n",
       "      <th>3</th>\n",
       "      <td>35000.00</td>\n",
       "      <td>32</td>\n",
       "      <td>LAGOS</td>\n",
       "      <td>36.0</td>\n",
       "      <td>1083</td>\n",
       "      <td>73.22033898</td>\n",
       "      <td>2</td>\n",
       "      <td>40000</td>\n",
       "      <td>10.0</td>\n",
       "      <td>60</td>\n",
       "      <td>...</td>\n",
       "      <td>0</td>\n",
       "      <td>0</td>\n",
       "      <td>0</td>\n",
       "      <td>0</td>\n",
       "      <td>0</td>\n",
       "      <td>0</td>\n",
       "      <td>1</td>\n",
       "      <td>0</td>\n",
       "      <td>0 days</td>\n",
       "      <td>9 days 20:41:07</td>\n",
       "    </tr>\n",
       "    <tr>\n",
       "      <th>4</th>\n",
       "      <td>97865.00</td>\n",
       "      <td>36</td>\n",
       "      <td>ABUJA</td>\n",
       "      <td>27.0</td>\n",
       "      <td>4001</td>\n",
       "      <td>22.60787172</td>\n",
       "      <td>9</td>\n",
       "      <td>162500</td>\n",
       "      <td>5.0</td>\n",
       "      <td>180</td>\n",
       "      <td>...</td>\n",
       "      <td>0</td>\n",
       "      <td>0</td>\n",
       "      <td>0</td>\n",
       "      <td>1</td>\n",
       "      <td>0</td>\n",
       "      <td>0</td>\n",
       "      <td>0</td>\n",
       "      <td>0</td>\n",
       "      <td>0 days</td>\n",
       "      <td>83 days 22:21:27</td>\n",
       "    </tr>\n",
       "  </tbody>\n",
       "</table>\n",
       "<p>5 rows × 38 columns</p>\n",
       "</div>"
      ],
      "text/plain": [
       "   clientIncome  clientAge clientState  clientTimeAtEmployer  \\\n",
       "0      35000.00         28         OYO                  36.0   \n",
       "1      70833.33         41       KWARA                  36.0   \n",
       "2      25000.00         38       LAGOS                  36.0   \n",
       "3      35000.00         32       LAGOS                  36.0   \n",
       "4      97865.00         36       ABUJA                  27.0   \n",
       "\n",
       "  clientNumberPhoneContacts clientAvgCallsPerDay  loanNumber  loanAmount  \\\n",
       "0                      1917          0.259357403           4       37500   \n",
       "1                      5678           296.338843           8       84500   \n",
       "2                       231                7.875           2       25000   \n",
       "3                      1083          73.22033898           2       40000   \n",
       "4                      4001          22.60787172           9      162500   \n",
       "\n",
       "   interestRate  loanTerm       ...         clientLoanPurpose_house  \\\n",
       "0          12.5        90       ...                               1   \n",
       "1           7.5       180       ...                               0   \n",
       "2          15.0        60       ...                               1   \n",
       "3          10.0        60       ...                               0   \n",
       "4           5.0       180       ...                               0   \n",
       "\n",
       "   clientLoanPurpose_medical  clientLoanPurpose_other  \\\n",
       "0                          0                        0   \n",
       "1                          0                        0   \n",
       "2                          0                        0   \n",
       "3                          0                        0   \n",
       "4                          0                        0   \n",
       "\n",
       "   clientResidentialStauts_Family Owned  clientResidentialStauts_Null  \\\n",
       "0                                     0                             0   \n",
       "1                                     0                             0   \n",
       "2                                     0                             0   \n",
       "3                                     0                             0   \n",
       "4                                     1                             0   \n",
       "\n",
       "   clientResidentialStauts_Own Residence clientResidentialStauts_Rented  \\\n",
       "0                                      1                              0   \n",
       "1                                      1                              0   \n",
       "2                                      0                              1   \n",
       "3                                      0                              1   \n",
       "4                                      0                              0   \n",
       "\n",
       "   clientResidentialStauts_Temp. Residence  disburse          duepaid  \n",
       "0                                        0    0 days  1 days 00:36:29  \n",
       "1                                        0    0 days 97 days 03:45:51  \n",
       "2                                        0    0 days  2 days 02:48:30  \n",
       "3                                        0    0 days  9 days 20:41:07  \n",
       "4                                        0    0 days 83 days 22:21:27  \n",
       "\n",
       "[5 rows x 38 columns]"
      ]
     },
     "execution_count": 17,
     "metadata": {},
     "output_type": "execute_result"
    }
   ],
   "source": [
    "data = data.drop(['disbursementDate','approvalDate', 'paidAt','dueDate','applicationDate' ], axis=1)   #drop six columns\n",
    "data.head()"
   ]
  },
  {
   "cell_type": "code",
   "execution_count": 8,
   "metadata": {
    "colab": {
     "base_uri": "https://localhost:8080/",
     "height": 412
    },
    "colab_type": "code",
    "executionInfo": {
     "elapsed": 1486,
     "status": "ok",
     "timestamp": 1554971129350,
     "user": {
      "displayName": "Mariam Atoyebi",
      "photoUrl": "",
      "userId": "13636599551709261360"
     },
     "user_tz": -60
    },
    "id": "nHM8utAKOjo6",
    "outputId": "d7493145-0170-43e1-d12f-dfc314ec3c0c"
   },
   "outputs": [
    {
     "data": {
      "image/png": "[encoded data removed]",
      "text/plain": [
       "<Figure size 432x288 with 1 Axes>"
      ]
     },
     "metadata": {},
     "output_type": "display_data"
    },
    {
     "data": {
      "text/plain": [
       "0    100740\n",
       "1     58856\n",
       "Name: loanDefault, dtype: int64"
      ]
     },
     "execution_count": 8,
     "metadata": {},
     "output_type": "execute_result"
    }
   ],
   "source": [
    "sns.countplot(x='loanDefault',data=data, palette='hls')\n",
    "plt.show()\n",
    "data['loanDefault'].value_counts()"
   ]
  },
  {
   "cell_type": "code",
   "execution_count": 9,
   "metadata": {
    "colab": {
     "base_uri": "https://localhost:8080/",
     "height": 51
    },
    "colab_type": "code",
    "executionInfo": {
     "elapsed": 1441,
     "status": "ok",
     "timestamp": 1554971142742,
     "user": {
      "displayName": "Mariam Atoyebi",
      "photoUrl": "",
      "userId": "13636599551709261360"
     },
     "user_tz": -60
    },
    "id": "_t1DFvAzTnWk",
    "outputId": "a1fd6db3-2b81-4303-926a-d4f570859ee3"
   },
   "outputs": [
    {
     "name": "stdout",
     "output_type": "stream",
     "text": [
      "percentage of non loan_defaults is 63.12188275395373\n",
      "percentage of loan_defaulters 36.878117246046266\n"
     ]
    }
   ],
   "source": [
    "count_no_defaulters = len(data[data['loanDefault']==0])\n",
    "count_defaulters = len(data[data['loanDefault']==1])\n",
    "pct_of_no_defaulters = count_no_defaulters/(count_no_defaulters+count_defaulters)\n",
    "print(\"percentage of non loan_defaults is\", pct_of_no_defaulters*100)\n",
    "pct_of_defaulters = count_defaulters/(count_no_defaulters+count_defaulters)\n",
    "print(\"percentage of loan_defaulters\", pct_of_defaulters*100)"
   ]
  },
  {
   "cell_type": "markdown",
   "metadata": {
    "colab_type": "text",
    "id": "77If0M2XSwlx"
   },
   "source": [
    "we can see from the above analysis that our classes are imbalanced.  The ratio of non defaulters to defaulters in 63:37. Hence, we need to balance the data for our algorithm to perform better."
   ]
  },
  {
   "cell_type": "markdown",
   "metadata": {
    "colab_type": "text",
    "id": "mGS7cy6A_GHF"
   },
   "source": [
    "#One hot encoding. Let's create the dummy variables"
   ]
  },
  {
   "cell_type": "code",
   "execution_count": 12,
   "metadata": {},
   "outputs": [],
   "source": [
    "#Handling categorical column, \n",
    "cat_feats = ['incomeVerified','clientGender','clientMaritalStatus','clientLoanPurpose','clientResidentialStauts']\n",
    "data = pd.get_dummies(data,columns=cat_feats,drop_first=True)"
   ]
  },
  {
   "cell_type": "code",
   "execution_count": 35,
   "metadata": {},
   "outputs": [],
   "source": [
    "data= data.drop('clientState', axis=1)\n",
    "data= data.drop('repaymnentDueDate', axis=1)"
   ]
  },
  {
   "cell_type": "code",
   "execution_count": 36,
   "metadata": {},
   "outputs": [],
   "source": [
    "data['disburse'] = pd.to_numeric(data['disburse'], errors='coerce')\n",
    "data['duepaid'] = pd.to_numeric(data['duepaid'], errors='coerce')"
   ]
  },
  {
   "cell_type": "code",
   "execution_count": 37,
   "metadata": {},
   "outputs": [
    {
     "data": {
      "text/plain": [
       "(159596, 36)"
      ]
     },
     "execution_count": 37,
     "metadata": {},
     "output_type": "execute_result"
    }
   ],
   "source": [
    "data.shape"
   ]
  },
  {
   "cell_type": "code",
   "execution_count": 38,
   "metadata": {},
   "outputs": [],
   "source": [
    "x1 = data.drop('loanDefault',axis=1)\n",
    "y1 = data.loanDefault"
   ]
  },
  {
   "cell_type": "code",
   "execution_count": 39,
   "metadata": {},
   "outputs": [
    {
     "data": {
      "text/plain": [
       "clientIncome                               float64\n",
       "clientAge                                    int64\n",
       "clientTimeAtEmployer                       float64\n",
       "clientNumberPhoneContacts                   object\n",
       "clientAvgCallsPerDay                        object\n",
       "loanNumber                                   int64\n",
       "loanAmount                                   int64\n",
       "interestRate                               float64\n",
       "loanTerm                                     int64\n",
       "max_amount_taken                             int64\n",
       "max_tenor_taken                              int64\n",
       "settleDays                                   int64\n",
       "firstPaymentRatio                          float64\n",
       "firstPaymentDefault                          int64\n",
       "incomeVerified_True                          uint8\n",
       "incomeVerified_FALSE                         uint8\n",
       "incomeVerified_Null                          uint8\n",
       "incomeVerified_TRUE                          uint8\n",
       "clientGender_MALE                            uint8\n",
       "clientMaritalStatus_Married                  uint8\n",
       "clientMaritalStatus_Null                     uint8\n",
       "clientMaritalStatus_Separated                uint8\n",
       "clientMaritalStatus_Single                   uint8\n",
       "clientMaritalStatus_Widowed                  uint8\n",
       "clientLoanPurpose_education                  uint8\n",
       "clientLoanPurpose_house                      uint8\n",
       "clientLoanPurpose_medical                    uint8\n",
       "clientLoanPurpose_other                      uint8\n",
       "clientResidentialStauts_Family Owned         uint8\n",
       "clientResidentialStauts_Null                 uint8\n",
       "clientResidentialStauts_Own Residence        uint8\n",
       "clientResidentialStauts_Rented               uint8\n",
       "clientResidentialStauts_Temp. Residence      uint8\n",
       "disburse                                     int64\n",
       "duepaid                                      int64\n",
       "dtype: object"
      ]
     },
     "execution_count": 39,
     "metadata": {},
     "output_type": "execute_result"
    }
   ],
   "source": [
    "#type(x1)\n",
    "x1.dtypes"
   ]
  },
  {
   "cell_type": "markdown",
   "metadata": {
    "colab_type": "text",
    "id": "nsDldaGsa0Cg"
   },
   "source": [
    "some columns were observed to contain \"Null\" as their values. A box plot is plotted for the numerical  features to get a good picture of the distribution of data. The 'Null' value will be replaced with the median value of the column. The Null values were converted to zero first, before being replaced with the median values.The mean was not used because outliers were observed in some columns and it will affect the computed values as seen in the plot below."
   ]
  },
  {
   "cell_type": "code",
   "execution_count": 40,
   "metadata": {},
   "outputs": [],
   "source": [
    "#join_train.fillna(-999,inplace=True)\n",
    "\n",
    "x1 = x1.replace('Null',0)\n",
    "x1.fillna(0,inplace=True)\n"
   ]
  },
  {
   "cell_type": "code",
   "execution_count": 41,
   "metadata": {
    "colab": {
     "base_uri": "https://localhost:8080/",
     "height": 71
    },
    "colab_type": "code",
    "executionInfo": {
     "elapsed": 1056,
     "status": "ok",
     "timestamp": 1555070862945,
     "user": {
      "displayName": "Mariam Atoyebi",
      "photoUrl": "",
      "userId": "13636599551709261360"
     },
     "user_tz": -60
    },
    "id": "Pn75Qhsmdv-m",
    "outputId": "a2e3cfdc-2129-431f-c8c7-6a3745349c40"
   },
   "outputs": [
    {
     "name": "stderr",
     "output_type": "stream",
     "text": [
      "C:\\Users\\maria\\Anaconda3\\lib\\site-packages\\sklearn\\utils\\deprecation.py:66: DeprecationWarning: Class Imputer is deprecated; Imputer was deprecated in version 0.20 and will be removed in 0.22. Import impute.SimpleImputer from sklearn instead.\n",
      "  warnings.warn(msg, category=DeprecationWarning)\n"
     ]
    }
   ],
   "source": [
    "from sklearn.preprocessing import Imputer\n",
    "imp = Imputer(missing_values= 0, strategy='median', axis=1)\n",
    "x1= imp.fit_transform(x1)\n",
    "\n",
    "#This will look for all columns where we have 0 value and replace the 0 value with the median."
   ]
  },
  {
   "cell_type": "code",
   "execution_count": 42,
   "metadata": {
    "colab": {
     "base_uri": "https://localhost:8080/",
     "height": 85
    },
    "colab_type": "code",
    "executionInfo": {
     "elapsed": 1083,
     "status": "ok",
     "timestamp": 1555070895004,
     "user": {
      "displayName": "Mariam Atoyebi",
      "photoUrl": "",
      "userId": "13636599551709261360"
     },
     "user_tz": -60
    },
    "id": "3UR95Lwwp6lO",
    "outputId": "6721d5c8-0ede-487d-be7b-5edd03f87e9d"
   },
   "outputs": [
    {
     "name": "stdout",
     "output_type": "stream",
     "text": [
      "Training Features Shape: (111717, 35)\n",
      "Training Labels Shape: (111717,)\n",
      "Testing Features Shape: (47879, 35)\n",
      "Testing Labels Shape: (47879,)\n"
     ]
    }
   ],
   "source": [
    "from sklearn.model_selection import train_test_split\n",
    "x1_train, x_test, y1_train, y_test = train_test_split(x1, y1, test_size=0.3, random_state=42)\n",
    "print('Training Features Shape:', x1_train.shape)\n",
    "print('Training Labels Shape:', y1_train.shape)\n",
    "print('Testing Features Shape:', x_test.shape)\n",
    "print('Testing Labels Shape:', y_test.shape)"
   ]
  },
  {
   "cell_type": "markdown",
   "metadata": {
    "colab_type": "text",
    "id": "RtXvK0iATgHY"
   },
   "source": [
    "** Let's balance the classes: Over-sampling technique  using SMOTE from the imbalance learn python library**\n",
    "\n",
    "first, we split our data into training and test sets"
   ]
  },
  {
   "cell_type": "markdown",
   "metadata": {
    "colab_type": "text",
    "id": "QzvuEt3HUqTP"
   },
   "source": [
    "We apply the over-sampling technique to only the training set"
   ]
  },
  {
   "cell_type": "code",
   "execution_count": 43,
   "metadata": {
    "colab": {
     "base_uri": "https://localhost:8080/",
     "height": 85
    },
    "colab_type": "code",
    "executionInfo": {
     "elapsed": 3650,
     "status": "ok",
     "timestamp": 1555070901046,
     "user": {
      "displayName": "Mariam Atoyebi",
      "photoUrl": "",
      "userId": "13636599551709261360"
     },
     "user_tz": -60
    },
    "id": "8JvWvWN7r9we",
    "outputId": "a84aaa21-9c32-4e00-8841-667c6ba20fa5"
   },
   "outputs": [
    {
     "name": "stdout",
     "output_type": "stream",
     "text": [
      "Training Features Balanced Shape: (140858, 35)\n",
      "Training Labels Balanced Shape: (140858,)\n",
      "Testing Features Balanced Shape: (47879, 35)\n",
      "Testing Labels Balanced Shape: (47879,)\n"
     ]
    }
   ],
   "source": [
    "import imblearn\n",
    "from imblearn.over_sampling import SMOTE\n",
    "\n",
    "smote = SMOTE(ratio='minority')\n",
    "x_train, y_train = smote.fit_sample(x1_train, y1_train)\n",
    "print('Training Features Balanced Shape:', x_train.shape)\n",
    "print('Training Labels Balanced Shape:', y_train.shape)\n",
    "print('Testing Features Balanced Shape:', x_test.shape)\n",
    "print('Testing Labels Balanced Shape:', y_test.shape)\n"
   ]
  },
  {
   "cell_type": "markdown",
   "metadata": {
    "colab_type": "text",
    "id": "ahFC6vv4hoHn"
   },
   "source": [
    "#Feature selection with PCA\n",
    "\n",
    "I performed some feature selection with PCA but noticed that my accuracy score was lower, hence i decided to use all features. It seems most of the features are important to our target variable prediction.with principal components= 5, i got accuracy of 0.64, principal component = 11, accuracy is 0.66, while with all features, accuracy is 0.74. Below are the codes i used for the PCA .\n",
    "\n",
    "from sklearn.decomposition import PCA\n",
    "\n",
    "-create pca\n",
    "\n",
    "pca = PCA(n_components=11)\n",
    "\n",
    "-fit the data to the model\n",
    "\n",
    "principalComponents = pca.fit_transform(x1)\n",
    "\n",
    "-create dataframe containing principal components\n",
    "\n",
    "x = pd.DataFrame(data = principalComponents)"
   ]
  },
  {
   "cell_type": "markdown",
   "metadata": {
    "colab_type": "text",
    "id": "abo4kVQKWs8c"
   },
   "source": [
    "**Lets scale our data :**  We use the StandardScaler function from the Scikit Learn preprocessing package to Zscore scale the numeric features. The scaler is fit only on the training data. The trained scaler is then applied to the test data. Test data should always be scaled using the parameters from the training data."
   ]
  },
  {
   "cell_type": "code",
   "execution_count": 44,
   "metadata": {
    "colab": {},
    "colab_type": "code",
    "id": "Ur5H5ZDgq-s9"
   },
   "outputs": [],
   "source": [
    "from sklearn.preprocessing import StandardScaler\n",
    "sc_X = StandardScaler()\n",
    "x_train = sc_X.fit_transform(x_train)\n",
    "x_test = sc_X.transform(x_test)\n"
   ]
  },
  {
   "cell_type": "markdown",
   "metadata": {
    "colab_type": "text",
    "id": "p6-lG30Wfspl"
   },
   "source": [
    "#Lets implement our model : Random Forest and Confusion matrix\n",
    "\n",
    "\n",
    "Most important hyperparameters of Random Forest:\n",
    "\n",
    "1)n_estimators = n of trees\n",
    "\n",
    "2)max_features = max number of features considered for splitting a node\n",
    "\n",
    "3)max_depth = max number of levels in each decision tree\n",
    "\n",
    "4)min_samples_split = min number of data points placed in a node before the node is split\n",
    "\n",
    "5)min_samples_leaf = min number of data points allowed in a leaf node\n",
    "\n",
    "6)bootstrap = method for sampling data points (with or without replacement)\n",
    "\n",
    "\n",
    "\n",
    "\n",
    "\n"
   ]
  },
  {
   "cell_type": "markdown",
   "metadata": {
    "colab_type": "text",
    "id": "EDiQrqXrk05_"
   },
   "source": [
    "**Based on the above explanations, I tuned my hyperparameters severally with different values before concluding to use the values in my classifier model below.**"
   ]
  },
  {
   "cell_type": "code",
   "execution_count": null,
   "metadata": {
    "colab": {
     "base_uri": "https://localhost:8080/",
     "height": 364
    },
    "colab_type": "code",
    "executionInfo": {
     "elapsed": 94147,
     "status": "ok",
     "timestamp": 1554973343395,
     "user": {
      "displayName": "Mariam Atoyebi",
      "photoUrl": "",
      "userId": "13636599551709261360"
     },
     "user_tz": -60
    },
    "id": "hD1TlH_qyrt6",
    "outputId": "67311eb1-9ab5-48a3-e1f0-2c29e0fb6142"
   },
   "outputs": [],
   "source": [
    "#Predicting the test set with random forest classifier \n",
    "\n",
    "from sklearn.ensemble import RandomForestClassifier\n",
    "from sklearn.metrics import f1_score,confusion_matrix\n",
    "from sklearn.metrics import accuracy_score\n",
    "\n",
    "#In order to get the best of the random forest classifier, the following hyper-parameters were tuned from the default values\n",
    "clf_rf = RandomForestClassifier(random_state=50, n_estimators=100, min_samples_leaf = 60,max_depth= 120, max_features = 0.9, n_jobs = -1, min_samples_split= 10)      \n",
    "clr_rf = clf_rf.fit(x_train,y_train)\n",
    "y_pred = clf_rf.predict(x_test)\n",
    "\n",
    "#Ploting the confusion matrix\n",
    "cm2 = confusion_matrix(y_test,y_pred)\n",
    "sns.heatmap(cm2,annot=True,fmt=\"d\")"
   ]
  },
  {
   "cell_type": "code",
   "execution_count": 45,
   "metadata": {},
   "outputs": [
    {
     "data": {
      "text/plain": [
       "<matplotlib.axes._subplots.AxesSubplot at 0x24c444dbda0>"
      ]
     },
     "execution_count": 45,
     "metadata": {},
     "output_type": "execute_result"
    },
    {
     "data": {
      "image/png": "[encoded data removed]",
      "text/plain": [
       "<Figure size 432x288 with 2 Axes>"
      ]
     },
     "metadata": {},
     "output_type": "display_data"
    }
   ],
   "source": [
    "#Predicting the test set with random forest classifier \n",
    "\n",
    "from sklearn.ensemble import RandomForestClassifier\n",
    "from sklearn.metrics import f1_score,confusion_matrix\n",
    "from sklearn.metrics import accuracy_score\n",
    "\n",
    "#In order to get the best of the random forest classifier, the following hyper-parameters were tuned from the default values\n",
    "clf_rf = RandomForestClassifier(random_state=42, n_estimators=100)\n",
    "                                  \n",
    "clr_rf = clf_rf.fit(x_train,y_train)\n",
    "y_pred = clf_rf.predict(x_test)\n",
    "\n",
    "#Ploting the confusion matrix\n",
    "cm2 = confusion_matrix(y_test,y_pred)\n",
    "sns.heatmap(cm2,annot=True,fmt=\"d\")"
   ]
  },
  {
   "cell_type": "code",
   "execution_count": 48,
   "metadata": {
    "colab": {
     "base_uri": "https://localhost:8080/",
     "height": 136
    },
    "colab_type": "code",
    "executionInfo": {
     "elapsed": 632992,
     "status": "ok",
     "timestamp": 1554737206211,
     "user": {
      "displayName": "Mariam Atoyebi",
      "photoUrl": "",
      "userId": "13636599551709261360"
     },
     "user_tz": -60
    },
    "id": "5JzgNJT5vqg-",
    "outputId": "7c42dac0-91d2-4a79-f9d6-3d012ce3dbfb"
   },
   "outputs": [
    {
     "name": "stdout",
     "output_type": "stream",
     "text": [
      "=== All AUC Scores ===\n",
      "[0.87011044 0.90266412 0.88702872 0.85042554 0.91091656 0.93941702\n",
      " 0.90623411 0.89270189 0.90681443 0.85907402]\n",
      "\n",
      "\n",
      "=== Mean AUC Score ===\n",
      "Mean AUC Score - Random Forest:  0.89\n"
     ]
    }
   ],
   "source": [
    "from sklearn.model_selection import cross_val_score\n",
    "clf_rf_score = cross_val_score(clf_rf, x1, y1, cv=10, scoring='roc_auc')\n",
    "print(\"=== All AUC Scores ===\")\n",
    "print(clf_rf_score)\n",
    "print('\\n')\n",
    "print(\"=== Mean AUC Score ===\")\n",
    "print(\"Mean AUC Score - Random Forest: \", round(clf_rf_score.mean(),2))"
   ]
  },
  {
   "cell_type": "markdown",
   "metadata": {
    "colab_type": "text",
    "id": "3_a9z9pyk9bI"
   },
   "source": [
    "**Let's Plot the ROC curve**"
   ]
  },
  {
   "cell_type": "code",
   "execution_count": 54,
   "metadata": {},
   "outputs": [
    {
     "name": "stdout",
     "output_type": "stream",
     "text": [
      "                 Confusion matrix\n",
      "                 Score positive    Score negative\n",
      "Actual positive     29022              1289\n",
      "Actual negative      7057             10511\n",
      "\n",
      "Accuracy        0.83\n",
      "AUC             0.90\n",
      "Macro precision 0.85\n",
      "Macro recall    0.78\n",
      " \n",
      "           Positive      Negative\n",
      "Num case    30311         17568\n",
      "Precision    0.80          0.89\n",
      "Recall       0.96          0.60\n",
      "F1           0.87          0.72\n"
     ]
    }
   ],
   "source": [
    "def score_model(probs, threshold):\n",
    "    return np.array([1 if x > threshold else 0 for x in probs[:,1]])\n",
    "\n",
    "def print_metrics(labels, probs, threshold):\n",
    "    scores = score_model(probs, threshold)\n",
    "    metrics = sklm.precision_recall_fscore_support(labels, scores)\n",
    "    conf = sklm.confusion_matrix(labels, scores)\n",
    "    print('                 Confusion matrix')\n",
    "    print('                 Score positive    Score negative')\n",
    "    print('Actual positive    %6d' % conf[0,0] + '             %5d' % conf[0,1])\n",
    "    print('Actual negative    %6d' % conf[1,0] + '             %5d' % conf[1,1])\n",
    "    print('')\n",
    "    print('Accuracy        %0.2f' % sklm.accuracy_score(labels, scores))\n",
    "    print('AUC             %0.2f' % sklm.roc_auc_score(labels, probs[:,1]))\n",
    "    print('Macro precision %0.2f' % float((float(metrics[0][0]) + float(metrics[0][1]))/2.0))\n",
    "    print('Macro recall    %0.2f' % float((float(metrics[1][0]) + float(metrics[1][1]))/2.0))\n",
    "    print(' ')\n",
    "    print('           Positive      Negative')\n",
    "    print('Num case   %6d' % metrics[3][0] + '        %6d' % metrics[3][1])\n",
    "    print('Precision  %6.2f' % metrics[0][0] + '        %6.2f' % metrics[0][1])\n",
    "    print('Recall     %6.2f' % metrics[1][0] + '        %6.2f' % metrics[1][1])\n",
    "    print('F1         %6.2f' % metrics[2][0] + '        %6.2f' % metrics[2][1])\n",
    "    \n",
    "    \n",
    "y_pred = clf_rf.predict_proba(x_test)\n",
    "print_metrics(y_test, y_pred, 0.5)  "
   ]
  },
  {
   "cell_type": "code",
   "execution_count": 55,
   "metadata": {},
   "outputs": [],
   "source": [
    "import sklearn.metrics as sklm"
   ]
  },
  {
   "cell_type": "code",
   "execution_count": 56,
   "metadata": {},
   "outputs": [
    {
     "data": {
      "image/png": "[encoded data removed]",
      "text/plain": [
       "<Figure size 432x288 with 1 Axes>"
      ]
     },
     "metadata": {},
     "output_type": "display_data"
    }
   ],
   "source": [
    "def plot_auc(labels, probs):\n",
    "    ## Compute the false positive rate, true positive rate\n",
    "    ## and threshold along with the AUC\n",
    "    fpr, tpr, threshold = sklm.roc_curve(labels, probs[:,1])\n",
    "    auc = sklm.auc(fpr, tpr)\n",
    "    \n",
    "    ## Plot the result\n",
    "    plt.title('Receiver Operating Characteristic')\n",
    "    plt.plot(fpr, tpr, color = 'orange', label = 'AUC = %0.2f' % auc)\n",
    "    plt.legend(loc = 'lower right')\n",
    "    plt.plot([0, 1], [0, 1],'r--')\n",
    "    plt.xlim([0, 1])\n",
    "    plt.ylim([0, 1])\n",
    "    plt.ylabel('True Positive Rate')\n",
    "    plt.xlabel('False Positive Rate')\n",
    "    plt.show()\n",
    "    \n",
    "plot_auc(y_test, y_pred)   "
   ]
  },
  {
   "cell_type": "markdown",
   "metadata": {
    "colab_type": "text",
    "id": "OL8PUqIbkSLx"
   },
   "source": [
    "**Performance Metrics: Evaluating the Random Forest Network model on Test set **"
   ]
  },
  {
   "cell_type": "code",
   "execution_count": 46,
   "metadata": {
    "colab": {
     "base_uri": "https://localhost:8080/",
     "height": 187
    },
    "colab_type": "code",
    "executionInfo": {
     "elapsed": 1105,
     "status": "ok",
     "timestamp": 1554973388018,
     "user": {
      "displayName": "Mariam Atoyebi",
      "photoUrl": "",
      "userId": "13636599551709261360"
     },
     "user_tz": -60
    },
    "id": "T8QCLgnqpSGs",
    "outputId": "67203f07-754d-46ed-8dc5-27273b6eb87a"
   },
   "outputs": [
    {
     "name": "stdout",
     "output_type": "stream",
     "text": [
      "              precision    recall  f1-score   support\n",
      "\n",
      "           0       0.80      0.96      0.87     30311\n",
      "           1       0.89      0.60      0.72     17568\n",
      "\n",
      "    accuracy                           0.83     47879\n",
      "   macro avg       0.85      0.78      0.80     47879\n",
      "weighted avg       0.84      0.83      0.82     47879\n",
      "\n",
      "Accuracy of random forest classifier on test set:  0.83\n"
     ]
    }
   ],
   "source": [
    "from sklearn.metrics import classification_report\n",
    "print(classification_report(y_test, y_pred))\n",
    "ac = accuracy_score(y_test,y_pred)\n",
    "print('Accuracy of random forest classifier on test set: ', round(ac,2))"
   ]
  },
  {
   "cell_type": "markdown",
   "metadata": {
    "colab_type": "text",
    "id": "ESI2-98bkmOO"
   },
   "source": [
    " **Performance Metrics: Evaluating the Random Forest model on Training set **"
   ]
  },
  {
   "cell_type": "code",
   "execution_count": 47,
   "metadata": {
    "colab": {
     "base_uri": "https://localhost:8080/",
     "height": 187
    },
    "colab_type": "code",
    "executionInfo": {
     "elapsed": 2350,
     "status": "ok",
     "timestamp": 1554973394783,
     "user": {
      "displayName": "Mariam Atoyebi",
      "photoUrl": "",
      "userId": "13636599551709261360"
     },
     "user_tz": -60
    },
    "id": "ck28Yf7rjFBL",
    "outputId": "76c384e0-b7af-422d-96f3-8dc10ba3ebed"
   },
   "outputs": [
    {
     "name": "stdout",
     "output_type": "stream",
     "text": [
      "              precision    recall  f1-score   support\n",
      "\n",
      "           0       1.00      1.00      1.00     70429\n",
      "           1       1.00      1.00      1.00     70429\n",
      "\n",
      "    accuracy                           1.00    140858\n",
      "   macro avg       1.00      1.00      1.00    140858\n",
      "weighted avg       1.00      1.00      1.00    140858\n",
      "\n",
      "Accuracy of random forest classifier on train set:  1.0\n"
     ]
    }
   ],
   "source": [
    "from sklearn.metrics import classification_report\n",
    "\n",
    "y_pred2 = clf_rf.predict(x_train)\n",
    "print(classification_report(y_train, y_pred2))\n",
    "ac = accuracy_score(y_train,y_pred2)\n",
    "print('Accuracy of random forest classifier on train set: ',round(ac,2))"
   ]
  }
 ],
 "metadata": {
  "accelerator": "GPU",
  "colab": {
   "collapsed_sections": [],
   "name": "mariamatoyebi@gmal.com_random_forest.ipynb",
   "provenance": [],
   "version": "0.3.2"
  },
  "kernelspec": {
   "display_name": "Python 3",
   "language": "python",
   "name": "python3"
  },
  "language_info": {
   "codemirror_mode": {
    "name": "ipython",
    "version": 3
   },
   "file_extension": ".py",
   "mimetype": "text/x-python",
   "name": "python",
   "nbconvert_exporter": "python",
   "pygments_lexer": "ipython3",
   "version": "3.6.5"
  }
 },
 "nbformat": 4,
 "nbformat_minor": 1
}
