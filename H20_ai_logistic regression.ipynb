{
 "cells": [
  {
   "cell_type": "code",
   "execution_count": 1,
   "metadata": {},
   "outputs": [
    {
     "name": "stdout",
     "output_type": "stream",
     "text": [
      "Checking whether there is an H2O instance running at http://localhost:54321 . connected.\n"
     ]
    },
    {
     "data": {
      "text/html": [
       "<div style=\"overflow:auto\"><table style=\"width:50%\"><tr><td>H2O cluster uptime:</td>\n",
       "<td>1 hour 32 mins</td></tr>\n",
       "<tr><td>H2O cluster timezone:</td>\n",
       "<td>Africa/Luanda</td></tr>\n",
       "<tr><td>H2O data parsing timezone:</td>\n",
       "<td>UTC</td></tr>\n",
       "<tr><td>H2O cluster version:</td>\n",
       "<td>3.24.0.2</td></tr>\n",
       "<tr><td>H2O cluster version age:</td>\n",
       "<td>15 days </td></tr>\n",
       "<tr><td>H2O cluster name:</td>\n",
       "<td>H2O_from_python_maria_7ot81p</td></tr>\n",
       "<tr><td>H2O cluster total nodes:</td>\n",
       "<td>1</td></tr>\n",
       "<tr><td>H2O cluster free memory:</td>\n",
       "<td>801 Mb</td></tr>\n",
       "<tr><td>H2O cluster total cores:</td>\n",
       "<td>4</td></tr>\n",
       "<tr><td>H2O cluster allowed cores:</td>\n",
       "<td>4</td></tr>\n",
       "<tr><td>H2O cluster status:</td>\n",
       "<td>locked, healthy</td></tr>\n",
       "<tr><td>H2O connection url:</td>\n",
       "<td>http://localhost:54321</td></tr>\n",
       "<tr><td>H2O connection proxy:</td>\n",
       "<td>None</td></tr>\n",
       "<tr><td>H2O internal security:</td>\n",
       "<td>False</td></tr>\n",
       "<tr><td>H2O API Extensions:</td>\n",
       "<td>Amazon S3, Algos, AutoML, Core V3, Core V4</td></tr>\n",
       "<tr><td>Python version:</td>\n",
       "<td>3.6.5 final</td></tr></table></div>"
      ],
      "text/plain": [
       "--------------------------  ------------------------------------------\n",
       "H2O cluster uptime:         1 hour 32 mins\n",
       "H2O cluster timezone:       Africa/Luanda\n",
       "H2O data parsing timezone:  UTC\n",
       "H2O cluster version:        3.24.0.2\n",
       "H2O cluster version age:    15 days\n",
       "H2O cluster name:           H2O_from_python_maria_7ot81p\n",
       "H2O cluster total nodes:    1\n",
       "H2O cluster free memory:    801 Mb\n",
       "H2O cluster total cores:    4\n",
       "H2O cluster allowed cores:  4\n",
       "H2O cluster status:         locked, healthy\n",
       "H2O connection url:         http://localhost:54321\n",
       "H2O connection proxy:\n",
       "H2O internal security:      False\n",
       "H2O API Extensions:         Amazon S3, Algos, AutoML, Core V3, Core V4\n",
       "Python version:             3.6.5 final\n",
       "--------------------------  ------------------------------------------"
      ]
     },
     "metadata": {},
     "output_type": "display_data"
    }
   ],
   "source": [
    "import h2o\n",
    "h2o.init()"
   ]
  },
  {
   "cell_type": "markdown",
   "metadata": {},
   "source": [
    "# Problem Description\n",
    "\n",
    "Based on some available features, we will like to determine if some people will click on our AD when using the internet."
   ]
  },
  {
   "cell_type": "code",
   "execution_count": 4,
   "metadata": {
    "scrolled": true
   },
   "outputs": [
    {
     "name": "stdout",
     "output_type": "stream",
     "text": [
      "Parse progress: |█████████████████████████████████████████████████████████| 100%\n"
     ]
    },
    {
     "data": {
      "text/html": [
       "<table>\n",
       "<thead>\n",
       "<tr><th style=\"text-align: right;\">  Daily Time Spent on Site</th><th style=\"text-align: right;\">  Age</th><th style=\"text-align: right;\">  Area Income</th><th style=\"text-align: right;\">  Daily Internet Usage</th><th>Ad Topic Line                        </th><th>City          </th><th style=\"text-align: right;\">  Male</th><th>Country   </th><th>Timestamp          </th><th style=\"text-align: right;\">  Clicked on Ad</th></tr>\n",
       "</thead>\n",
       "<tbody>\n",
       "<tr><td style=\"text-align: right;\">                     68.95</td><td style=\"text-align: right;\">   35</td><td style=\"text-align: right;\">      61833.9</td><td style=\"text-align: right;\">                256.09</td><td>Cloned 5thgeneration orchestration   </td><td>Wrightburgh   </td><td style=\"text-align: right;\">     0</td><td>Tunisia   </td><td>2016-03-27 00:53:11</td><td style=\"text-align: right;\">              0</td></tr>\n",
       "<tr><td style=\"text-align: right;\">                     80.23</td><td style=\"text-align: right;\">   31</td><td style=\"text-align: right;\">      68441.9</td><td style=\"text-align: right;\">                193.77</td><td>Monitored national standardization   </td><td>West Jodi     </td><td style=\"text-align: right;\">     1</td><td>Nauru     </td><td>2016-04-04 01:39:02</td><td style=\"text-align: right;\">              0</td></tr>\n",
       "<tr><td style=\"text-align: right;\">                     69.47</td><td style=\"text-align: right;\">   26</td><td style=\"text-align: right;\">      59785.9</td><td style=\"text-align: right;\">                236.5 </td><td>Organic bottom-line service-desk     </td><td>Davidton      </td><td style=\"text-align: right;\">     0</td><td>San Marino</td><td>2016-03-13 20:35:42</td><td style=\"text-align: right;\">              0</td></tr>\n",
       "<tr><td style=\"text-align: right;\">                     74.15</td><td style=\"text-align: right;\">   29</td><td style=\"text-align: right;\">      54806.2</td><td style=\"text-align: right;\">                245.89</td><td>Triple-buffered reciprocal time-frame</td><td>West Terrifurt</td><td style=\"text-align: right;\">     1</td><td>Italy     </td><td>2016-01-10 02:31:19</td><td style=\"text-align: right;\">              0</td></tr>\n",
       "<tr><td style=\"text-align: right;\">                     68.37</td><td style=\"text-align: right;\">   35</td><td style=\"text-align: right;\">      73890  </td><td style=\"text-align: right;\">                225.58</td><td>Robust logistical utilization        </td><td>South Manuel  </td><td style=\"text-align: right;\">     0</td><td>Iceland   </td><td>2016-06-03 03:36:18</td><td style=\"text-align: right;\">              0</td></tr>\n",
       "</tbody>\n",
       "</table>"
      ]
     },
     "metadata": {},
     "output_type": "display_data"
    },
    {
     "data": {
      "text/plain": []
     },
     "execution_count": 4,
     "metadata": {},
     "output_type": "execute_result"
    }
   ],
   "source": [
    "data = h2o.import_file(\"advertising.csv\")\n",
    "data.head(5)# The default head() command displays the first 10 rows."
   ]
  },
  {
   "cell_type": "markdown",
   "metadata": {},
   "source": [
    "# Important features about H2o.AI \n",
    "(http://docs.h2o.ai/h2o/latest-stable/h2o-docs/data-science/glm.html)\n",
    "\n",
    "1) Standardization: The Standardization of numerical values is enabled by default. If you do not use standardization, the results can include components that are dominated by variables that appear to have larger variances relative to other attributes as a matter of scale, rather than true contribution. Only advanced users should disable this option.\n",
    "\n",
    "2) Missing values handling: In H2O, the Deep Learning and GLM algorithms will either skip or mean-impute rows with NA values. This option defaults to MeanImputation. But you can select the skip option.\n",
    "\n",
    "3) Unwanted Columns: The ignored_columns parameter is used to specify an array of column names that should be ignored.\n",
    "\n",
    "4) Collinearity : Collinear columns can cause problems during model fitting. The preferred way to deal with collinearity (and the default H2O behavior) is to add regularization. However, if you want a non-regularized solution, you can choose to automatically remove collinear columns by enabling the \"remove_collinear_columns\" option. This option can only be used when solver=IRLSM and with no regularization (lambda=0)."
   ]
  },
  {
   "cell_type": "code",
   "execution_count": 5,
   "metadata": {},
   "outputs": [
    {
     "name": "stdout",
     "output_type": "stream",
     "text": [
      "missing: 0.0\n"
     ]
    }
   ],
   "source": [
    "# check the number of missing values\n",
    "#Depending on the selected missing value handling policy, \n",
    "#they are either imputed mean or the whole row is skipped. The default behavior is Mean Imputation. \n",
    "print('missing:', data.isna().sum())"
   ]
  },
  {
   "cell_type": "code",
   "execution_count": 6,
   "metadata": {},
   "outputs": [
    {
     "name": "stdout",
     "output_type": "stream",
     "text": [
      "Rows:1000\n",
      "Cols:10\n",
      "\n",
      "\n"
     ]
    },
    {
     "data": {
      "text/html": [
       "<table>\n",
       "<thead>\n",
       "<tr><th>       </th><th>Daily Time Spent on Site  </th><th>Age             </th><th>Area Income       </th><th>Daily Internet Usage  </th><th>Ad Topic Line                        </th><th>City            </th><th>Male               </th><th>Country   </th><th>Timestamp          </th><th>Clicked on Ad     </th></tr>\n",
       "</thead>\n",
       "<tbody>\n",
       "<tr><td>type   </td><td>real                      </td><td>int             </td><td>real              </td><td>real                  </td><td>string                               </td><td>string          </td><td>int                </td><td>enum      </td><td>time               </td><td>int               </td></tr>\n",
       "<tr><td>mins   </td><td>32.6                      </td><td>19.0            </td><td>13996.5           </td><td>104.78                </td><td>NaN                                  </td><td>NaN             </td><td>0.0                </td><td>          </td><td>1451616730000.0    </td><td>0.0               </td></tr>\n",
       "<tr><td>mean   </td><td>65.0002                   </td><td>36.009          </td><td>55000.00008       </td><td>180.00009999999997    </td><td>NaN                                  </td><td>NaN             </td><td>0.481              </td><td>          </td><td>1460284446636.0    </td><td>0.5               </td></tr>\n",
       "<tr><td>maxs   </td><td>91.43                     </td><td>61.0            </td><td>79484.8           </td><td>269.96                </td><td>NaN                                  </td><td>NaN             </td><td>1.0                </td><td>          </td><td>1469319736000.0    </td><td>1.0               </td></tr>\n",
       "<tr><td>sigma  </td><td>15.853614567500209        </td><td>8.78556231012592</td><td>13414.634022282358</td><td>43.9023393019801      </td><td>NaN                                  </td><td>NaN             </td><td>0.49988887654046565</td><td>          </td><td>5089978400.060859  </td><td>0.5002501876563868</td></tr>\n",
       "<tr><td>zeros  </td><td>0                         </td><td>0               </td><td>0                 </td><td>0                     </td><td>0                                    </td><td>0               </td><td>519                </td><td>          </td><td>0                  </td><td>500               </td></tr>\n",
       "<tr><td>missing</td><td>0                         </td><td>0               </td><td>0                 </td><td>0                     </td><td>0                                    </td><td>0               </td><td>0                  </td><td>0         </td><td>0                  </td><td>0                 </td></tr>\n",
       "<tr><td>0      </td><td>68.95                     </td><td>35.0            </td><td>61833.9           </td><td>256.09                </td><td>Cloned 5thgeneration orchestration   </td><td>Wrightburgh     </td><td>0.0                </td><td>Tunisia   </td><td>2016-03-27 00:53:11</td><td>0.0               </td></tr>\n",
       "<tr><td>1      </td><td>80.23                     </td><td>31.0            </td><td>68441.85          </td><td>193.77                </td><td>Monitored national standardization   </td><td>West Jodi       </td><td>1.0                </td><td>Nauru     </td><td>2016-04-04 01:39:02</td><td>0.0               </td></tr>\n",
       "<tr><td>2      </td><td>69.47                     </td><td>26.0            </td><td>59785.94          </td><td>236.5                 </td><td>Organic bottom-line service-desk     </td><td>Davidton        </td><td>0.0                </td><td>San Marino</td><td>2016-03-13 20:35:42</td><td>0.0               </td></tr>\n",
       "<tr><td>3      </td><td>74.15                     </td><td>29.0            </td><td>54806.18          </td><td>245.89                </td><td>Triple-buffered reciprocal time-frame</td><td>West Terrifurt  </td><td>1.0                </td><td>Italy     </td><td>2016-01-10 02:31:19</td><td>0.0               </td></tr>\n",
       "<tr><td>4      </td><td>68.37                     </td><td>35.0            </td><td>73889.99          </td><td>225.58                </td><td>Robust logistical utilization        </td><td>South Manuel    </td><td>0.0                </td><td>Iceland   </td><td>2016-06-03 03:36:18</td><td>0.0               </td></tr>\n",
       "<tr><td>5      </td><td>59.99                     </td><td>23.0            </td><td>59761.56          </td><td>226.74                </td><td>Sharable client-driven software      </td><td>Jamieberg       </td><td>1.0                </td><td>Norway    </td><td>2016-05-19 14:30:17</td><td>0.0               </td></tr>\n",
       "<tr><td>6      </td><td>88.91                     </td><td>33.0            </td><td>53852.85          </td><td>208.36                </td><td>Enhanced dedicated support           </td><td>Brandonstad     </td><td>0.0                </td><td>Myanmar   </td><td>2016-01-28 20:59:32</td><td>0.0               </td></tr>\n",
       "<tr><td>7      </td><td>66.0                      </td><td>48.0            </td><td>24593.33          </td><td>131.76                </td><td>Reactive local challenge             </td><td>Port Jefferybury</td><td>1.0                </td><td>Australia </td><td>2016-03-07 01:40:15</td><td>1.0               </td></tr>\n",
       "<tr><td>8      </td><td>74.53                     </td><td>30.0            </td><td>68862.0           </td><td>221.51                </td><td>Configurable coherent function       </td><td>West Colin      </td><td>1.0                </td><td>Grenada   </td><td>2016-04-18 09:33:42</td><td>0.0               </td></tr>\n",
       "<tr><td>9      </td><td>69.88                     </td><td>20.0            </td><td>55642.32          </td><td>183.82                </td><td>Mandatory homogeneous architecture   </td><td>Ramirezton      </td><td>1.0                </td><td>Ghana     </td><td>2016-07-11 01:42:51</td><td>0.0               </td></tr>\n",
       "</tbody>\n",
       "</table>"
      ]
     },
     "metadata": {},
     "output_type": "display_data"
    }
   ],
   "source": [
    "data.describe()"
   ]
  },
  {
   "cell_type": "code",
   "execution_count": 7,
   "metadata": {},
   "outputs": [
    {
     "name": "stdout",
     "output_type": "stream",
     "text": [
      "(802, 10) (198, 10)\n"
     ]
    }
   ],
   "source": [
    "i_split = data.split_frame(ratios = [0.8], seed = 1234)\n",
    "train = i_split[0] # using 80% for training\n",
    "test = i_split[1] #rest 20% for testing\n",
    "print(train.shape, test.shape)"
   ]
  },
  {
   "cell_type": "code",
   "execution_count": 12,
   "metadata": {},
   "outputs": [],
   "source": [
    "#set the response column to to levels\n",
    "data['Clicked on Ad'] = data['Clicked on Ad'].asfactor()\n",
    "\n",
    "# set the predictor names and the response column name\n",
    "predictors= ['Daily Time Spent on Site', 'Age', 'Area Income','Daily Internet Usage', 'Male']\n",
    "response = 'Clicked on Ad'\n",
    "\n",
    "# split into train and validation sets\n",
    "#train, valid= airlines.split_frame(ratios = [.8], seed = 1234)\n",
    "i_split = data.split_frame(ratios = [0.8], seed = 1234)\n",
    "train = i_split[0] # using 80% for training\n",
    "test = i_split[1] #rest 20% for testing\n"
   ]
  },
  {
   "cell_type": "code",
   "execution_count": 1,
   "metadata": {},
   "outputs": [
    {
     "ename": "NameError",
     "evalue": "name 'predictors' is not defined",
     "output_type": "error",
     "traceback": [
      "\u001b[1;31m---------------------------------------------------------------------------\u001b[0m",
      "\u001b[1;31mNameError\u001b[0m                                 Traceback (most recent call last)",
      "\u001b[1;32m<ipython-input-1-155c29888220>\u001b[0m in \u001b[0;36m<module>\u001b[1;34m()\u001b[0m\n\u001b[0;32m      2\u001b[0m \u001b[1;33m\u001b[0m\u001b[0m\n\u001b[0;32m      3\u001b[0m \u001b[0mglm_model\u001b[0m \u001b[1;33m=\u001b[0m \u001b[0mH2OGeneralizedLinearEstimator\u001b[0m\u001b[1;33m(\u001b[0m\u001b[0mfamily\u001b[0m\u001b[1;33m=\u001b[0m \u001b[1;34m\"binomial\"\u001b[0m\u001b[1;33m,\u001b[0m \u001b[0mcompute_p_values\u001b[0m \u001b[1;33m=\u001b[0m \u001b[1;32mTrue\u001b[0m\u001b[1;33m)\u001b[0m\u001b[1;33m\u001b[0m\u001b[0m\n\u001b[1;32m----> 4\u001b[1;33m \u001b[0mglm_model\u001b[0m\u001b[1;33m.\u001b[0m\u001b[0mtrain\u001b[0m\u001b[1;33m(\u001b[0m\u001b[0mpredictors\u001b[0m\u001b[1;33m,\u001b[0m \u001b[0mresponse\u001b[0m\u001b[1;33m,\u001b[0m \u001b[0mtraining_frame\u001b[0m\u001b[1;33m=\u001b[0m \u001b[0mtrain\u001b[0m\u001b[1;33m)\u001b[0m\u001b[1;33m\u001b[0m\u001b[0m\n\u001b[0m\u001b[0;32m      5\u001b[0m \u001b[0mprint\u001b[0m\u001b[1;33m(\u001b[0m\u001b[0mglm_model\u001b[0m\u001b[1;33m)\u001b[0m\u001b[1;33m\u001b[0m\u001b[0m\n",
      "\u001b[1;31mNameError\u001b[0m: name 'predictors' is not defined"
     ]
    }
   ],
   "source": [
    "from h2o.estimators.glm import H2OGeneralizedLinearEstimator\n",
    "\n",
    "glm_model = H2OGeneralizedLinearEstimator(family= \"binomial\", compute_p_values = True)\n",
    "glm_model.train(predictors, response, training_frame= train)\n",
    "print(glm_model)\n"
   ]
  },
  {
   "cell_type": "code",
   "execution_count": 15,
   "metadata": {},
   "outputs": [
    {
     "name": "stdout",
     "output_type": "stream",
     "text": [
      "{'Intercept': 27.87692087078464, 'Daily Time Spent on Site': -0.1966950113270224, 'Age': 0.14699298814289136, 'Area Income': -0.00013020677570598898, 'Daily Internet Usage': -0.06268513367372519, 'Male': -0.5392970117985854}\n"
     ]
    }
   ],
   "source": [
    "# Coefficients that can be applied to the non-standardized data.\n",
    "print(glm_model.coef())"
   ]
  },
  {
   "cell_type": "code",
   "execution_count": 16,
   "metadata": {},
   "outputs": [
    {
     "name": "stdout",
     "output_type": "stream",
     "text": [
      "{'Intercept': 1.6886784338118903, 'Daily Time Spent on Site': -3.1568417772378043, 'Age': 1.2706869405802226, 'Area Income': -1.7506282774499542, 'Daily Internet Usage': -2.710143301946955, 'Male': -0.2694465303066473}\n"
     ]
    }
   ],
   "source": [
    "# Coefficients fitted on the standardized data (requires standardize = True, which is on by default)\n",
    "print(glm_model.coef_norm())"
   ]
  },
  {
   "cell_type": "code",
   "execution_count": 17,
   "metadata": {},
   "outputs": [
    {
     "name": "stdout",
     "output_type": "stream",
     "text": [
      "Coefficients: glm coefficients\n",
      "\n"
     ]
    },
    {
     "data": {
      "text/html": [
       "<div style=\"overflow:auto\"><table style=\"width:50%\"><tr><td><b>names</b></td>\n",
       "<td><b>coefficients</b></td>\n",
       "<td><b>std_error</b></td>\n",
       "<td><b>z_value</b></td>\n",
       "<td><b>p_value</b></td>\n",
       "<td><b>standardized_coefficients</b></td></tr>\n",
       "<tr><td>Intercept</td>\n",
       "<td>27.8769209</td>\n",
       "<td>3.0722314</td>\n",
       "<td>9.0738349</td>\n",
       "<td>0.0</td>\n",
       "<td>1.6886784</td></tr>\n",
       "<tr><td>Daily Time Spent on Site</td>\n",
       "<td>-0.1966950</td>\n",
       "<td>0.0227155</td>\n",
       "<td>-8.6590663</td>\n",
       "<td>0.0</td>\n",
       "<td>-3.1568418</td></tr>\n",
       "<tr><td>Age</td>\n",
       "<td>0.1469930</td>\n",
       "<td>0.0272385</td>\n",
       "<td>5.3965219</td>\n",
       "<td>0.0000001</td>\n",
       "<td>1.2706869</td></tr>\n",
       "<tr><td>Area Income</td>\n",
       "<td>-0.0001302</td>\n",
       "<td>0.0000201</td>\n",
       "<td>-6.4704071</td>\n",
       "<td>0.0000000</td>\n",
       "<td>-1.7506283</td></tr>\n",
       "<tr><td>Daily Internet Usage</td>\n",
       "<td>-0.0626851</td>\n",
       "<td>0.0076578</td>\n",
       "<td>-8.1858094</td>\n",
       "<td>0.0000000</td>\n",
       "<td>-2.7101433</td></tr>\n",
       "<tr><td>Male</td>\n",
       "<td>-0.5392970</td>\n",
       "<td>0.4556241</td>\n",
       "<td>-1.1836445</td>\n",
       "<td>0.2365538</td>\n",
       "<td>-0.2694465</td></tr></table></div>"
      ],
      "text/plain": [
       "names                     coefficients    std_error    z_value    p_value      standardized_coefficients\n",
       "------------------------  --------------  -----------  ---------  -----------  ---------------------------\n",
       "Intercept                 27.8769         3.07223      9.07383    0            1.68868\n",
       "Daily Time Spent on Site  -0.196695       0.0227155    -8.65907   0            -3.15684\n",
       "Age                       0.146993        0.0272385    5.39652    6.79451e-08  1.27069\n",
       "Area Income               -0.000130207    2.01234e-05  -6.47041   9.77393e-11  -1.75063\n",
       "Daily Internet Usage      -0.0626851      0.00765778   -8.18581   2.22045e-16  -2.71014\n",
       "Male                      -0.539297       0.455624     -1.18364   0.236554     -0.269447"
      ]
     },
     "metadata": {},
     "output_type": "display_data"
    },
    {
     "data": {
      "text/plain": []
     },
     "execution_count": 17,
     "metadata": {},
     "output_type": "execute_result"
    }
   ],
   "source": [
    "# Print the Coefficients table\n",
    "glm_model._model_json['output']['coefficients_table']"
   ]
  },
  {
   "cell_type": "code",
   "execution_count": 18,
   "metadata": {},
   "outputs": [
    {
     "name": "stdout",
     "output_type": "stream",
     "text": [
      "[3.0722314292465556, 0.02271549899985897, 0.02723846770856031, 2.0123428634649435e-05, 0.007657780798422204, 0.45562413185764894]\n"
     ]
    }
   ],
   "source": [
    "# Print the Standard error\n",
    "print(glm_model._model_json['output']['coefficients_table']['std_error'])\n"
   ]
  },
  {
   "cell_type": "code",
   "execution_count": 21,
   "metadata": {},
   "outputs": [
    {
     "name": "stdout",
     "output_type": "stream",
     "text": [
      "glm prediction progress: |████████████████████████████████████████████████| 100%\n"
     ]
    },
    {
     "data": {
      "text/html": [
       "<table>\n",
       "<thead>\n",
       "<tr><th style=\"text-align: right;\">  predict</th><th style=\"text-align: right;\">         p0</th><th style=\"text-align: right;\">        p1</th><th style=\"text-align: right;\">  StdErr</th></tr>\n",
       "</thead>\n",
       "<tbody>\n",
       "<tr><td style=\"text-align: right;\">        0</td><td style=\"text-align: right;\">0.996067   </td><td style=\"text-align: right;\">0.00393345</td><td style=\"text-align: right;\">0.612624</td></tr>\n",
       "<tr><td style=\"text-align: right;\">        0</td><td style=\"text-align: right;\">0.90338    </td><td style=\"text-align: right;\">0.0966205 </td><td style=\"text-align: right;\">0.478406</td></tr>\n",
       "<tr><td style=\"text-align: right;\">        1</td><td style=\"text-align: right;\">1.30426e-05</td><td style=\"text-align: right;\">0.999987  </td><td style=\"text-align: right;\">1.26424 </td></tr>\n",
       "<tr><td style=\"text-align: right;\">        0</td><td style=\"text-align: right;\">0.964354   </td><td style=\"text-align: right;\">0.0356458 </td><td style=\"text-align: right;\">0.506453</td></tr>\n",
       "<tr><td style=\"text-align: right;\">        1</td><td style=\"text-align: right;\">3.03995e-05</td><td style=\"text-align: right;\">0.99997   </td><td style=\"text-align: right;\">1.1998  </td></tr>\n",
       "</tbody>\n",
       "</table>"
      ]
     },
     "metadata": {},
     "output_type": "display_data"
    },
    {
     "data": {
      "text/plain": []
     },
     "execution_count": 21,
     "metadata": {},
     "output_type": "execute_result"
    }
   ],
   "source": [
    "predictions = glm_model.predict(test)\n",
    "                               \n",
    "predictions.head(5)"
   ]
  },
  {
   "cell_type": "code",
   "execution_count": 25,
   "metadata": {},
   "outputs": [
    {
     "name": "stdout",
     "output_type": "stream",
     "text": [
      "\n",
      "ModelMetricsBinomialGLM: glm\n",
      "** Reported on test data. **\n",
      "\n",
      "MSE: 0.02369804444066122\n",
      "RMSE: 0.1539416916909166\n",
      "LogLoss: 0.09510143545409801\n",
      "Null degrees of freedom: 197\n",
      "Residual degrees of freedom: 192\n",
      "Null deviance: 274.48628350173834\n",
      "Residual deviance: 37.66016843982282\n",
      "AIC: 49.66016843982282\n",
      "AUC: 0.9907152331394756\n",
      "pr_auc: 0.9832395618791827\n",
      "Gini: 0.9814304662789513\n",
      "Confusion Matrix (Act/Pred) for max f1 @ threshold = 0.20978118730958129: \n"
     ]
    },
    {
     "data": {
      "text/html": [
       "<div style=\"overflow:auto\"><table style=\"width:50%\"><tr><td><b></b></td>\n",
       "<td><b>0</b></td>\n",
       "<td><b>1</b></td>\n",
       "<td><b>Error</b></td>\n",
       "<td><b>Rate</b></td></tr>\n",
       "<tr><td>0</td>\n",
       "<td>97.0</td>\n",
       "<td>2.0</td>\n",
       "<td>0.0202</td>\n",
       "<td> (2.0/99.0)</td></tr>\n",
       "<tr><td>1</td>\n",
       "<td>3.0</td>\n",
       "<td>96.0</td>\n",
       "<td>0.0303</td>\n",
       "<td> (3.0/99.0)</td></tr>\n",
       "<tr><td>Total</td>\n",
       "<td>100.0</td>\n",
       "<td>98.0</td>\n",
       "<td>0.0253</td>\n",
       "<td> (5.0/198.0)</td></tr></table></div>"
      ],
      "text/plain": [
       "       0    1    Error    Rate\n",
       "-----  ---  ---  -------  -----------\n",
       "0      97   2    0.0202   (2.0/99.0)\n",
       "1      3    96   0.0303   (3.0/99.0)\n",
       "Total  100  98   0.0253   (5.0/198.0)"
      ]
     },
     "metadata": {},
     "output_type": "display_data"
    },
    {
     "name": "stdout",
     "output_type": "stream",
     "text": [
      "Maximum Metrics: Maximum metrics at their respective thresholds\n",
      "\n"
     ]
    },
    {
     "data": {
      "text/html": [
       "<div style=\"overflow:auto\"><table style=\"width:50%\"><tr><td><b>metric</b></td>\n",
       "<td><b>threshold</b></td>\n",
       "<td><b>value</b></td>\n",
       "<td><b>idx</b></td></tr>\n",
       "<tr><td>max f1</td>\n",
       "<td>0.2097812</td>\n",
       "<td>0.9746193</td>\n",
       "<td>97.0</td></tr>\n",
       "<tr><td>max f2</td>\n",
       "<td>0.2097812</td>\n",
       "<td>0.9716599</td>\n",
       "<td>97.0</td></tr>\n",
       "<tr><td>max f0point5</td>\n",
       "<td>0.6888539</td>\n",
       "<td>0.9894737</td>\n",
       "<td>93.0</td></tr>\n",
       "<tr><td>max accuracy</td>\n",
       "<td>0.6888539</td>\n",
       "<td>0.9747475</td>\n",
       "<td>93.0</td></tr>\n",
       "<tr><td>max precision</td>\n",
       "<td>0.9999982</td>\n",
       "<td>1.0</td>\n",
       "<td>0.0</td></tr>\n",
       "<tr><td>max recall</td>\n",
       "<td>0.0058866</td>\n",
       "<td>1.0</td>\n",
       "<td>158.0</td></tr>\n",
       "<tr><td>max specificity</td>\n",
       "<td>0.9999982</td>\n",
       "<td>1.0</td>\n",
       "<td>0.0</td></tr>\n",
       "<tr><td>max absolute_mcc</td>\n",
       "<td>0.6888539</td>\n",
       "<td>0.9507082</td>\n",
       "<td>93.0</td></tr>\n",
       "<tr><td>max min_per_class_accuracy</td>\n",
       "<td>0.2097812</td>\n",
       "<td>0.9696970</td>\n",
       "<td>97.0</td></tr>\n",
       "<tr><td>max mean_per_class_accuracy</td>\n",
       "<td>0.6888539</td>\n",
       "<td>0.9747475</td>\n",
       "<td>93.0</td></tr></table></div>"
      ],
      "text/plain": [
       "metric                       threshold    value     idx\n",
       "---------------------------  -----------  --------  -----\n",
       "max f1                       0.209781     0.974619  97\n",
       "max f2                       0.209781     0.97166   97\n",
       "max f0point5                 0.688854     0.989474  93\n",
       "max accuracy                 0.688854     0.974747  93\n",
       "max precision                0.999998     1         0\n",
       "max recall                   0.00588656   1         158\n",
       "max specificity              0.999998     1         0\n",
       "max absolute_mcc             0.688854     0.950708  93\n",
       "max min_per_class_accuracy   0.209781     0.969697  97\n",
       "max mean_per_class_accuracy  0.688854     0.974747  93"
      ]
     },
     "metadata": {},
     "output_type": "display_data"
    },
    {
     "name": "stdout",
     "output_type": "stream",
     "text": [
      "Gains/Lift Table: Avg response rate: 50.00 %, avg score: 78.48 %\n",
      "\n"
     ]
    },
    {
     "data": {
      "text/html": [
       "<div style=\"overflow:auto\"><table style=\"width:50%\"><tr><td><b></b></td>\n",
       "<td><b>group</b></td>\n",
       "<td><b>cumulative_data_fraction</b></td>\n",
       "<td><b>lower_threshold</b></td>\n",
       "<td><b>lift</b></td>\n",
       "<td><b>cumulative_lift</b></td>\n",
       "<td><b>response_rate</b></td>\n",
       "<td><b>score</b></td>\n",
       "<td><b>cumulative_response_rate</b></td>\n",
       "<td><b>cumulative_score</b></td>\n",
       "<td><b>capture_rate</b></td>\n",
       "<td><b>cumulative_capture_rate</b></td>\n",
       "<td><b>gain</b></td>\n",
       "<td><b>cumulative_gain</b></td></tr>\n",
       "<tr><td></td>\n",
       "<td>1</td>\n",
       "<td>0.0101010</td>\n",
       "<td>1.4512117</td>\n",
       "<td>2.0</td>\n",
       "<td>2.0</td>\n",
       "<td>1.0</td>\n",
       "<td>1.4767788</td>\n",
       "<td>1.0</td>\n",
       "<td>1.4767788</td>\n",
       "<td>0.0202020</td>\n",
       "<td>0.0202020</td>\n",
       "<td>100.0</td>\n",
       "<td>100.0</td></tr>\n",
       "<tr><td></td>\n",
       "<td>2</td>\n",
       "<td>0.0202020</td>\n",
       "<td>1.3899024</td>\n",
       "<td>2.0</td>\n",
       "<td>2.0</td>\n",
       "<td>1.0</td>\n",
       "<td>1.4441281</td>\n",
       "<td>1.0</td>\n",
       "<td>1.4604534</td>\n",
       "<td>0.0202020</td>\n",
       "<td>0.0404040</td>\n",
       "<td>100.0</td>\n",
       "<td>100.0</td></tr>\n",
       "<tr><td></td>\n",
       "<td>3</td>\n",
       "<td>0.0303030</td>\n",
       "<td>1.3512287</td>\n",
       "<td>2.0</td>\n",
       "<td>2.0</td>\n",
       "<td>1.0</td>\n",
       "<td>1.3759319</td>\n",
       "<td>1.0</td>\n",
       "<td>1.4322796</td>\n",
       "<td>0.0202020</td>\n",
       "<td>0.0606061</td>\n",
       "<td>100.0</td>\n",
       "<td>100.0</td></tr>\n",
       "<tr><td></td>\n",
       "<td>4</td>\n",
       "<td>0.0404040</td>\n",
       "<td>1.3195998</td>\n",
       "<td>2.0</td>\n",
       "<td>2.0</td>\n",
       "<td>1.0</td>\n",
       "<td>1.3402391</td>\n",
       "<td>1.0</td>\n",
       "<td>1.4092695</td>\n",
       "<td>0.0202020</td>\n",
       "<td>0.0808081</td>\n",
       "<td>100.0</td>\n",
       "<td>100.0</td></tr>\n",
       "<tr><td></td>\n",
       "<td>5</td>\n",
       "<td>0.0505051</td>\n",
       "<td>1.3039604</td>\n",
       "<td>2.0</td>\n",
       "<td>2.0</td>\n",
       "<td>1.0</td>\n",
       "<td>1.3157720</td>\n",
       "<td>1.0</td>\n",
       "<td>1.3905700</td>\n",
       "<td>0.0202020</td>\n",
       "<td>0.1010101</td>\n",
       "<td>100.0</td>\n",
       "<td>100.0</td></tr>\n",
       "<tr><td></td>\n",
       "<td>6</td>\n",
       "<td>0.1010101</td>\n",
       "<td>1.2121425</td>\n",
       "<td>2.0</td>\n",
       "<td>2.0</td>\n",
       "<td>1.0</td>\n",
       "<td>1.2574698</td>\n",
       "<td>1.0</td>\n",
       "<td>1.3240199</td>\n",
       "<td>0.1010101</td>\n",
       "<td>0.2020202</td>\n",
       "<td>100.0</td>\n",
       "<td>100.0</td></tr>\n",
       "<tr><td></td>\n",
       "<td>7</td>\n",
       "<td>0.1515152</td>\n",
       "<td>1.1723987</td>\n",
       "<td>2.0</td>\n",
       "<td>2.0</td>\n",
       "<td>1.0</td>\n",
       "<td>1.1924020</td>\n",
       "<td>1.0</td>\n",
       "<td>1.2801472</td>\n",
       "<td>0.1010101</td>\n",
       "<td>0.3030303</td>\n",
       "<td>100.0</td>\n",
       "<td>100.0</td></tr>\n",
       "<tr><td></td>\n",
       "<td>8</td>\n",
       "<td>0.2020202</td>\n",
       "<td>1.1090618</td>\n",
       "<td>2.0</td>\n",
       "<td>2.0</td>\n",
       "<td>1.0</td>\n",
       "<td>1.1412939</td>\n",
       "<td>1.0</td>\n",
       "<td>1.2454339</td>\n",
       "<td>0.1010101</td>\n",
       "<td>0.4040404</td>\n",
       "<td>100.0</td>\n",
       "<td>100.0</td></tr>\n",
       "<tr><td></td>\n",
       "<td>9</td>\n",
       "<td>0.3030303</td>\n",
       "<td>0.9654628</td>\n",
       "<td>2.0</td>\n",
       "<td>2.0</td>\n",
       "<td>1.0</td>\n",
       "<td>1.0382507</td>\n",
       "<td>1.0</td>\n",
       "<td>1.1763728</td>\n",
       "<td>0.2020202</td>\n",
       "<td>0.6060606</td>\n",
       "<td>100.0</td>\n",
       "<td>100.0</td></tr>\n",
       "<tr><td></td>\n",
       "<td>10</td>\n",
       "<td>0.3989899</td>\n",
       "<td>0.7463763</td>\n",
       "<td>2.0</td>\n",
       "<td>2.0</td>\n",
       "<td>1.0</td>\n",
       "<td>0.8858081</td>\n",
       "<td>1.0</td>\n",
       "<td>1.1064902</td>\n",
       "<td>0.1919192</td>\n",
       "<td>0.7979798</td>\n",
       "<td>100.0</td>\n",
       "<td>100.0</td></tr>\n",
       "<tr><td></td>\n",
       "<td>11</td>\n",
       "<td>0.5</td>\n",
       "<td>0.6314594</td>\n",
       "<td>0.8</td>\n",
       "<td>1.7575758</td>\n",
       "<td>0.4</td>\n",
       "<td>0.6607241</td>\n",
       "<td>0.8787879</td>\n",
       "<td>1.0164364</td>\n",
       "<td>0.0808081</td>\n",
       "<td>0.8787879</td>\n",
       "<td>-20.0000000</td>\n",
       "<td>75.7575758</td></tr>\n",
       "<tr><td></td>\n",
       "<td>12</td>\n",
       "<td>0.6010101</td>\n",
       "<td>0.6058067</td>\n",
       "<td>0.3</td>\n",
       "<td>1.5126050</td>\n",
       "<td>0.15</td>\n",
       "<td>0.6196795</td>\n",
       "<td>0.7563025</td>\n",
       "<td>0.9497546</td>\n",
       "<td>0.0303030</td>\n",
       "<td>0.9090909</td>\n",
       "<td>-70.0</td>\n",
       "<td>51.2605042</td></tr>\n",
       "<tr><td></td>\n",
       "<td>13</td>\n",
       "<td>0.6969697</td>\n",
       "<td>0.5731383</td>\n",
       "<td>0.2105263</td>\n",
       "<td>1.3333333</td>\n",
       "<td>0.1052632</td>\n",
       "<td>0.5922011</td>\n",
       "<td>0.6666667</td>\n",
       "<td>0.9005262</td>\n",
       "<td>0.0202020</td>\n",
       "<td>0.9292929</td>\n",
       "<td>-78.9473684</td>\n",
       "<td>33.3333333</td></tr>\n",
       "<tr><td></td>\n",
       "<td>14</td>\n",
       "<td>0.7979798</td>\n",
       "<td>0.5440414</td>\n",
       "<td>0.4</td>\n",
       "<td>1.2151899</td>\n",
       "<td>0.2</td>\n",
       "<td>0.5591816</td>\n",
       "<td>0.6075949</td>\n",
       "<td>0.8573180</td>\n",
       "<td>0.0404040</td>\n",
       "<td>0.9696970</td>\n",
       "<td>-60.0</td>\n",
       "<td>21.5189873</td></tr>\n",
       "<tr><td></td>\n",
       "<td>15</td>\n",
       "<td>0.8989899</td>\n",
       "<td>0.5071857</td>\n",
       "<td>0.2</td>\n",
       "<td>1.1011236</td>\n",
       "<td>0.1</td>\n",
       "<td>0.5225537</td>\n",
       "<td>0.5505618</td>\n",
       "<td>0.8197041</td>\n",
       "<td>0.0202020</td>\n",
       "<td>0.9898990</td>\n",
       "<td>-80.0</td>\n",
       "<td>10.1123596</td></tr>\n",
       "<tr><td></td>\n",
       "<td>16</td>\n",
       "<td>1.0</td>\n",
       "<td>0.4393143</td>\n",
       "<td>0.1</td>\n",
       "<td>1.0</td>\n",
       "<td>0.05</td>\n",
       "<td>0.4739583</td>\n",
       "<td>0.5</td>\n",
       "<td>0.7847803</td>\n",
       "<td>0.0101010</td>\n",
       "<td>1.0</td>\n",
       "<td>-90.0</td>\n",
       "<td>0.0</td></tr></table></div>"
      ],
      "text/plain": [
       "    group    cumulative_data_fraction    lower_threshold    lift      cumulative_lift    response_rate    score     cumulative_response_rate    cumulative_score    capture_rate    cumulative_capture_rate    gain      cumulative_gain\n",
       "--  -------  --------------------------  -----------------  --------  -----------------  ---------------  --------  --------------------------  ------------------  --------------  -------------------------  --------  -----------------\n",
       "    1        0.010101                    1.45121            2         2                  1                1.47678   1                           1.47678             0.020202        0.020202                   100       100\n",
       "    2        0.020202                    1.3899             2         2                  1                1.44413   1                           1.46045             0.020202        0.040404                   100       100\n",
       "    3        0.030303                    1.35123            2         2                  1                1.37593   1                           1.43228             0.020202        0.0606061                  100       100\n",
       "    4        0.040404                    1.3196             2         2                  1                1.34024   1                           1.40927             0.020202        0.0808081                  100       100\n",
       "    5        0.0505051                   1.30396            2         2                  1                1.31577   1                           1.39057             0.020202        0.10101                    100       100\n",
       "    6        0.10101                     1.21214            2         2                  1                1.25747   1                           1.32402             0.10101         0.20202                    100       100\n",
       "    7        0.151515                    1.1724             2         2                  1                1.1924    1                           1.28015             0.10101         0.30303                    100       100\n",
       "    8        0.20202                     1.10906            2         2                  1                1.14129   1                           1.24543             0.10101         0.40404                    100       100\n",
       "    9        0.30303                     0.965463           2         2                  1                1.03825   1                           1.17637             0.20202         0.606061                   100       100\n",
       "    10       0.39899                     0.746376           2         2                  1                0.885808  1                           1.10649             0.191919        0.79798                    100       100\n",
       "    11       0.5                         0.631459           0.8       1.75758            0.4              0.660724  0.878788                    1.01644             0.0808081       0.878788                   -20       75.7576\n",
       "    12       0.60101                     0.605807           0.3       1.51261            0.15             0.619679  0.756303                    0.949755            0.030303        0.909091                   -70       51.2605\n",
       "    13       0.69697                     0.573138           0.210526  1.33333            0.105263         0.592201  0.666667                    0.900526            0.020202        0.929293                   -78.9474  33.3333\n",
       "    14       0.79798                     0.544041           0.4       1.21519            0.2              0.559182  0.607595                    0.857318            0.040404        0.969697                   -60       21.519\n",
       "    15       0.89899                     0.507186           0.2       1.10112            0.1              0.522554  0.550562                    0.819704            0.020202        0.989899                   -80       10.1124\n",
       "    16       1                           0.439314           0.1       1                  0.05             0.473958  0.5                         0.78478             0.010101        1                          -90       0"
      ]
     },
     "metadata": {},
     "output_type": "display_data"
    },
    {
     "name": "stdout",
     "output_type": "stream",
     "text": [
      "\n",
      "\n"
     ]
    }
   ],
   "source": [
    "## Get the AUC on the validation set\n",
    "perf = glm_model.model_performance(test)\n",
    "print (perf)"
   ]
  },
  {
   "cell_type": "markdown",
   "metadata": {},
   "source": [
    "# Interpretation\n",
    "\n",
    "In general, our model performed quite well F1 value of 0.97, precision value of 1.0, recall vale of 1.0 and AUC of 0.99"
   ]
  },
  {
   "cell_type": "code",
   "execution_count": null,
   "metadata": {},
   "outputs": [],
   "source": []
  }
 ],
 "metadata": {
  "kernelspec": {
   "display_name": "Python 3",
   "language": "python",
   "name": "python3"
  },
  "language_info": {
   "codemirror_mode": {
    "name": "ipython",
    "version": 3
   },
   "file_extension": ".py",
   "mimetype": "text/x-python",
   "name": "python",
   "nbconvert_exporter": "python",
   "pygments_lexer": "ipython3",
   "version": "3.6.5"
  }
 },
 "nbformat": 4,
 "nbformat_minor": 2
}
